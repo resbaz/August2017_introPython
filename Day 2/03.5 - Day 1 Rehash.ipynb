{
 "cells": [
  {
   "cell_type": "markdown",
   "metadata": {},
   "source": [
    "# Rehash\n",
    "\n",
    "### Data Types\n",
    "The main data types in python that we'll be working with are int (integers), float (decimals), str (strings of text), list (see below, section 1.0.3) and dict (dictionaries, section 1.0.4)\n",
    "\n",
    "To make a string in python, you can just surround a piece of text - like a word, sentence or number - in quote marks, like \" \", or ' '.\n",
    "\n",
    "You can also \"coerce\" data types - i.e. make something into a different data type - by wrapping in a function like this:\n",
    "- str(thing to convert)\n",
    "- int(thing to convert)\n",
    "- float(thing to convert)\n",
    "- list(thing to convert)\n",
    "- etc.\n",
    "\n",
    "You can do multiple conversions by wrapping the item multiple times. Example:\n",
    "\n",
    "` int(float(\"3.6\"))` - this will turn the string \"3.6\" into a float, then into an int.\n",
    "\n"
   ]
  },
  {
   "cell_type": "code",
   "execution_count": null,
   "metadata": {
    "collapsed": true,
    "scrolled": true
   },
   "outputs": [],
   "source": []
  },
  {
   "cell_type": "markdown",
   "metadata": {},
   "source": [
    "### Variables\n",
    "\n",
    "When you type something into your python code box, your computer will perform an action on it. To actually *save* that value though, you need to assign it to a *variable*. You can do this using the '=' sign, like this: `variableName = value`.\n",
    "\n",
    "Once you've given your variable a value, you can then use it to do everything that you would on that value by itself. This includes math, using a function on it, changing its value, and much more.\n",
    "\n",
    "\n",
    "\n"
   ]
  },
  {
   "cell_type": "code",
   "execution_count": 3,
   "metadata": {},
   "outputs": [
    {
     "data": {
      "text/plain": [
       "37"
      ]
     },
     "execution_count": 3,
     "metadata": {},
     "output_type": "execute_result"
    }
   ],
   "source": [
    "# I make my variable\n",
    "number = 3\n",
    "\n",
    "# I can then do math on it, and update my variable with the new value\n",
    "number = number ** 3 + 10\n",
    "\n",
    "number"
   ]
  },
  {
   "cell_type": "markdown",
   "metadata": {
    "collapsed": true
   },
   "source": [
    "Variables will always be the same data type as whatever data, or values, you have assigned to it at that time. "
   ]
  },
  {
   "cell_type": "markdown",
   "metadata": {},
   "source": [
    "This is known as 'dynamic' (as in, changeable) typing"
   ]
  },
  {
   "cell_type": "code",
   "execution_count": 4,
   "metadata": {},
   "outputs": [
    {
     "data": {
      "text/plain": [
       "int"
      ]
     },
     "execution_count": 4,
     "metadata": {},
     "output_type": "execute_result"
    }
   ],
   "source": [
    "type(number)"
   ]
  },
  {
   "cell_type": "code",
   "execution_count": 5,
   "metadata": {},
   "outputs": [
    {
     "data": {
      "text/plain": [
       "str"
      ]
     },
     "execution_count": 5,
     "metadata": {},
     "output_type": "execute_result"
    }
   ],
   "source": [
    "number = \"string\"\n",
    "\n",
    "type(number)"
   ]
  },
  {
   "cell_type": "markdown",
   "metadata": {},
   "source": [
    "### Lists\n",
    "\n",
    "A list is an example of a \"collection\" of data - something that allows you to store multiple values or variables in a single structure. \n",
    "\n",
    "Lists are identified with [] in python. A list is just like a list in real life - an ordered collection of items. Lists can contain any data type inside of them. You can combine strings, ints, floats, or even other lists inside your list.\n",
    "\n",
    "To find a particular piece of data inside your list, you can use list[index]\n",
    "\n",
    "Remeber though! Python counts it's indexes from 0, not 1. Therefore, to access the last item in a list with 4 items, you would use list[3]\n"
   ]
  },
  {
   "cell_type": "code",
   "execution_count": 6,
   "metadata": {
    "collapsed": true
   },
   "outputs": [],
   "source": [
    "list1 = [4.5, 2, \"string\", [\"Another list\"], {\"even\": \"a dictionary\"}]"
   ]
  },
  {
   "cell_type": "code",
   "execution_count": 7,
   "metadata": {},
   "outputs": [
    {
     "data": {
      "text/plain": [
       "4.5"
      ]
     },
     "execution_count": 7,
     "metadata": {},
     "output_type": "execute_result"
    }
   ],
   "source": [
    "list1[0]"
   ]
  },
  {
   "cell_type": "code",
   "execution_count": 8,
   "metadata": {},
   "outputs": [
    {
     "data": {
      "text/plain": [
       "['Another list']"
      ]
     },
     "execution_count": 8,
     "metadata": {},
     "output_type": "execute_result"
    }
   ],
   "source": [
    "list1[3]"
   ]
  },
  {
   "cell_type": "markdown",
   "metadata": {},
   "source": [
    "#### Slicing\n",
    "\n",
    "You can \"slice\" - or take a section of your lists or strings - by using colons while indexing your list/string\n",
    "\n",
    "e.g. list1[0:3]"
   ]
  },
  {
   "cell_type": "code",
   "execution_count": 12,
   "metadata": {},
   "outputs": [
    {
     "name": "stdout",
     "output_type": "stream",
     "text": [
      "[4.5, 2, 'string']\n",
      "string\n"
     ]
    }
   ],
   "source": [
    "print(list1[0:3])\n",
    "\n",
    "thing = \"string\"\n",
    "print(thing[0:6])"
   ]
  },
  {
   "cell_type": "markdown",
   "metadata": {},
   "source": [
    "Remember though! While slicing, Python will go UP TO, but NOT INCLUDING the final number you specify.\n",
    "\n",
    "e.g. \"ng\" are the 4th and 5th index of \"string\". If I wanted to get both of those letters, I would need to slice thing[4:6], or thing[start:stop + 1]"
   ]
  },
  {
   "cell_type": "code",
   "execution_count": null,
   "metadata": {
    "collapsed": true
   },
   "outputs": [],
   "source": []
  },
  {
   "cell_type": "markdown",
   "metadata": {},
   "source": [
    "\n",
    "### Dictionaries\n",
    "\n",
    "Dictionaries are identified with {} in python. A dictionary stores each piece of data with a \"key\" that allows it be easily found. These are known as \"key-value\" pairs. \n",
    "\n",
    "To find a particular value inside your dictionary, you insert the name of the \"key\", like so: `dictionary[keyName]`.\n",
    "\n",
    "\n"
   ]
  },
  {
   "cell_type": "code",
   "execution_count": null,
   "metadata": {
    "collapsed": true
   },
   "outputs": [],
   "source": []
  },
  {
   "cell_type": "code",
   "execution_count": null,
   "metadata": {
    "collapsed": true
   },
   "outputs": [],
   "source": []
  },
  {
   "cell_type": "code",
   "execution_count": null,
   "metadata": {
    "collapsed": true
   },
   "outputs": [],
   "source": []
  },
  {
   "cell_type": "markdown",
   "metadata": {},
   "source": [
    "### Conditionals\n",
    "\n",
    "To use test a condition in python, you use `if`, `elif` (else if), and `else` statements.\n",
    "\n",
    "To use an `if` statement, you structure it like so:\n",
    "\n",
    "```python\n",
    "if condition:\n",
    "    (do a thing)\n",
    "    \"\"\"\n",
    "    If you add 4 spaces to the next line, this means that you're now inside this if \n",
    "    statement. This means that if you want something to only happen when this condition \n",
    "    is true, you have indent that section.\n",
    "    \"\"\"\n",
    "\n",
    "elif condition: #Don't forget the colon!\n",
    "        (do a thing)\n",
    "        '''\n",
    "        We use elif statements if we want to test something else IF that original if \n",
    "        statement isn't true. If the condition before this one IS true, the computer \n",
    "        will skip the test in the elif statement. You can use multiple elif statements \n",
    "        one after another, if you want to check multiple things\n",
    "        '''\n",
    "        \n",
    "else:\n",
    "    (do a thing)\n",
    "    '''\n",
    "    else statements run IF AND ONLY IF none of the other if or elif conditions are met\n",
    "    '''\n",
    "\n",
    "\"\"\"\n",
    "If you remove those spaces, we are now outside of this big block of conditionals. This \n",
    "means that regardless of whether any of the previous conditions are true, this part of \n",
    "the code is going to run\n",
    "\"\"\"\n",
    "\n",
    "```\n",
    "    "
   ]
  },
  {
   "cell_type": "code",
   "execution_count": null,
   "metadata": {},
   "outputs": [],
   "source": [
    "num = False\n",
    "if num == True:\n",
    "    print (\"This\")\n",
    "    \n",
    "print(\"That\")"
   ]
  },
  {
   "cell_type": "code",
   "execution_count": null,
   "metadata": {
    "collapsed": true
   },
   "outputs": [],
   "source": []
  },
  {
   "cell_type": "code",
   "execution_count": null,
   "metadata": {
    "collapsed": true
   },
   "outputs": [],
   "source": []
  },
  {
   "cell_type": "markdown",
   "metadata": {},
   "source": [
    "### Loops\n",
    "\n",
    "Loops are a way to perform the same actions, or the set of code within the loop, for however long the loop runs for. There are two options for loops: a `for loop`, which will run through a specific set until it reaches the end, and `while loops`, which will run until a certain condition is no longer true.\n",
    "\n",
    "#### For Loops\n",
    "\n",
    "You structure `for` loops like so:\n",
    "```python\n",
    "\n",
    "for item in collection/dataset: #again, we add the colon to the end\n",
    "    # and the four spaces/tab tells us that we're now INSIDE this for loop.\n",
    "    do this thing until you reach the end of the dataset/collection\n",
    "    \n",
    "```\n",
    "The \"collection/dataset\" you loop through can be a list, or any other collection of data. The `range()` function allows you to create a list-like collection of data that is the same size as the numbers you give it. `range()` can take 3 arguments, \"start\", \"stop\" and \"step\"\n",
    "\n",
    "- `range(2)` would give you `[0,1]`\n",
    "- `range(1,4)` would give you `[1,2,3]`\n",
    "- `range(1,6,2)`would give you `[1,3,5]`\n",
    "\n",
    "\n",
    "\n"
   ]
  },
  {
   "cell_type": "code",
   "execution_count": null,
   "metadata": {
    "collapsed": true
   },
   "outputs": [],
   "source": []
  },
  {
   "cell_type": "code",
   "execution_count": null,
   "metadata": {
    "collapsed": true
   },
   "outputs": [],
   "source": []
  },
  {
   "cell_type": "code",
   "execution_count": null,
   "metadata": {
    "collapsed": true
   },
   "outputs": [],
   "source": []
  },
  {
   "cell_type": "markdown",
   "metadata": {},
   "source": [
    "#### While Loops\n",
    "\n",
    "A while loop will continue until a condition - that you define - is no longer true. \n",
    "\n",
    "Be careful with these - it's very easy to create an infinite loop, or have it continue for slightly longer than you intend it to.\n",
    "\n",
    "The structure of a `while` loop looks like this:\n",
    "\n",
    "```python \n",
    "\n",
    "while condition:\n",
    "    do this thing\n",
    "    \n",
    "```"
   ]
  },
  {
   "cell_type": "code",
   "execution_count": null,
   "metadata": {
    "collapsed": true
   },
   "outputs": [],
   "source": []
  },
  {
   "cell_type": "code",
   "execution_count": null,
   "metadata": {
    "collapsed": true
   },
   "outputs": [],
   "source": []
  },
  {
   "cell_type": "code",
   "execution_count": null,
   "metadata": {
    "collapsed": true
   },
   "outputs": [],
   "source": []
  },
  {
   "cell_type": "markdown",
   "metadata": {},
   "source": [
    "## Homework Challenge\n",
    "\n",
    "Create a for loop that will go through the example list given below. If the list item is a number below or equal to 10, add this number to another list for \"odd\" or \"even\" numbers. If it's a string, add it to another list.\n",
    "\n",
    "Sort the contents of these three lists, then print the outputs of all three on separate lines.\n",
    "\n",
    "An example of the list you might recieve is below, along with some code to help you get started.\n",
    "\n",
    "\n"
   ]
  },
  {
   "cell_type": "code",
   "execution_count": 1,
   "metadata": {
    "collapsed": true
   },
   "outputs": [],
   "source": [
    "list1 = [1, 3.2, \"Are you having a nice day?\", 2, 4, \"difficulty increased!\", 10, 15, 11.5, 5, 6, 9, 8.2, 7, \n",
    "            14.8, 13, [\"Nested list\", \"This makes it a bit harder, eh?\", \"3000000\", 4.6],9.9]"
   ]
  },
  {
   "cell_type": "code",
   "execution_count": null,
   "metadata": {
    "scrolled": true
   },
   "outputs": [],
   "source": []
  },
  {
   "cell_type": "code",
   "execution_count": null,
   "metadata": {},
   "outputs": [],
   "source": []
  },
  {
   "cell_type": "code",
   "execution_count": null,
   "metadata": {
    "collapsed": true
   },
   "outputs": [],
   "source": []
  }
 ],
 "metadata": {
  "kernelspec": {
   "display_name": "Python 3",
   "language": "python",
   "name": "python3"
  },
  "language_info": {
   "codemirror_mode": {
    "name": "ipython",
    "version": 3
   },
   "file_extension": ".py",
   "mimetype": "text/x-python",
   "name": "python",
   "nbconvert_exporter": "python",
   "pygments_lexer": "ipython3",
   "version": "3.6.1"
  },
  "toc": {
   "colors": {
    "hover_highlight": "#DAA520",
    "navigate_num": "#000000",
    "navigate_text": "#333333",
    "running_highlight": "#FF0000",
    "selected_highlight": "#FFD700",
    "sidebar_border": "#EEEEEE",
    "wrapper_background": "#FFFFFF"
   },
   "moveMenuLeft": true,
   "nav_menu": {
    "height": "214px",
    "width": "252px"
   },
   "navigate_menu": true,
   "number_sections": true,
   "sideBar": false,
   "threshold": 4,
   "toc_cell": false,
   "toc_section_display": "block",
   "toc_window_display": false,
   "widenNotebook": false
  }
 },
 "nbformat": 4,
 "nbformat_minor": 2
}
