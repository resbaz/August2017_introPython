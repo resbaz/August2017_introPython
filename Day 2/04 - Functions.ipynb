{
 "cells": [
  {
   "cell_type": "markdown",
   "metadata": {},
   "source": [
    "# Functions\n",
    "\n",
    "Learning Objectives\n",
    "- Define a function that takes parameters.\n",
    "- Return a value from a function.\n",
    "- Test and debug a function.\n",
    "- Set default values for function parameters.\n",
    "- Explain why we should divide programs into small, single-purpose functions.\n",
    "\n"
   ]
  },
  {
   "cell_type": "markdown",
   "metadata": {},
   "source": [
    "Imagine now that you're writing a piece of code...and you're writing up the exact same `if` statements, and the same loops, in multiple areas inside your program.\n",
    "\n",
    "Instead of doing this, what we can do is make our own **functions** - where we can define our own command that performs the actions that we want it to. \n",
    "\n",
    "We've already encountered functions before - list.sort(), for example, is a function that takes your list, reorders the data inside it, and then gives it back to you.\n",
    "\n",
    "Similarly, type() is a function that takes the data that you give it, tests which data type it is, and then prints out a statement that tells you what it is."
   ]
  },
  {
   "cell_type": "markdown",
   "metadata": {},
   "source": [
    "We can make a function using the `def`, or \"definition\" command, followed by what we would like our function to be called.\n",
    "\n",
    "For example:"
   ]
  },
  {
   "cell_type": "code",
   "execution_count": 9,
   "metadata": {
    "collapsed": true
   },
   "outputs": [],
   "source": [
    "def functionName(): #we also need these bracket on \n",
    "                    #the end\n",
    "    print(\"let's make some code\")"
   ]
  },
  {
   "cell_type": "code",
   "execution_count": 10,
   "metadata": {},
   "outputs": [
    {
     "name": "stdout",
     "output_type": "stream",
     "text": [
      "let's make some code\n"
     ]
    }
   ],
   "source": [
    "# I can then run this code inside the function by \n",
    "    #\"calling\" the function\n",
    "functionName()"
   ]
  },
  {
   "cell_type": "code",
   "execution_count": 11,
   "metadata": {},
   "outputs": [
    {
     "name": "stdout",
     "output_type": "stream",
     "text": [
      "let's make some code\n"
     ]
    }
   ],
   "source": [
    "functionName()"
   ]
  },
  {
   "cell_type": "code",
   "execution_count": 12,
   "metadata": {
    "collapsed": true
   },
   "outputs": [],
   "source": [
    "def crazy():\n",
    "    print(\"There are a lot of crazy people\")"
   ]
  },
  {
   "cell_type": "code",
   "execution_count": 13,
   "metadata": {},
   "outputs": [
    {
     "name": "stdout",
     "output_type": "stream",
     "text": [
      "There are a lot of crazy people\n"
     ]
    }
   ],
   "source": [
    "crazy()"
   ]
  },
  {
   "cell_type": "raw",
   "metadata": {},
   "source": []
  },
  {
   "cell_type": "markdown",
   "metadata": {},
   "source": [
    "We can also make it so that our function has to take some *parameters* when we call it.\n",
    "\n",
    "Parameters are variables that we use inside the function while writing our code. For example, if I were to make a function that adds two numbers:"
   ]
  },
  {
   "cell_type": "code",
   "execution_count": 14,
   "metadata": {
    "collapsed": true
   },
   "outputs": [],
   "source": [
    "def add(x,y):\n",
    "    x = x + y\n",
    "    print(x)\n",
    "    "
   ]
  },
  {
   "cell_type": "code",
   "execution_count": 15,
   "metadata": {},
   "outputs": [
    {
     "name": "stdout",
     "output_type": "stream",
     "text": [
      "String is cool\n"
     ]
    }
   ],
   "source": [
    "add(\"String \", \"is cool\")"
   ]
  },
  {
   "cell_type": "code",
   "execution_count": 16,
   "metadata": {},
   "outputs": [
    {
     "ename": "TypeError",
     "evalue": "add() missing 2 required positional arguments: 'x' and 'y'",
     "output_type": "error",
     "traceback": [
      "\u001b[1;31m---------------------------------------------------------------------------\u001b[0m",
      "\u001b[1;31mTypeError\u001b[0m                                 Traceback (most recent call last)",
      "\u001b[1;32m<ipython-input-16-09e9fb56b0a4>\u001b[0m in \u001b[0;36m<module>\u001b[1;34m()\u001b[0m\n\u001b[1;32m----> 1\u001b[1;33m \u001b[0madd\u001b[0m\u001b[1;33m(\u001b[0m\u001b[1;33m)\u001b[0m\u001b[1;33m\u001b[0m\u001b[0m\n\u001b[0m",
      "\u001b[1;31mTypeError\u001b[0m: add() missing 2 required positional arguments: 'x' and 'y'"
     ]
    }
   ],
   "source": [
    "add()"
   ]
  },
  {
   "cell_type": "markdown",
   "metadata": {},
   "source": [
    "x and y would be the variables that I use inside the function, and are thus the *parameters* of the `add()` function.\n",
    "\n",
    "However, if your function uses parameters, when calling your function you have to include data that could represent those parameters. Try calling `add()` below without any numbers"
   ]
  },
  {
   "cell_type": "code",
   "execution_count": null,
   "metadata": {
    "collapsed": true
   },
   "outputs": [],
   "source": [
    "add()"
   ]
  },
  {
   "cell_type": "code",
   "execution_count": null,
   "metadata": {},
   "outputs": [],
   "source": [
    "#but if I include two numbers inside it, add will work\n",
    "add(2,3)\n",
    "add(1,2)"
   ]
  },
  {
   "cell_type": "code",
   "execution_count": null,
   "metadata": {},
   "outputs": [],
   "source": [
    "# what if I define an \"x\" outside of the function though?\n",
    "x = 1\n",
    "y = 4\n",
    "print(\"Add(1,2) makes x:\")\n",
    "add(x,y)\n",
    "print(\"but x is still\", x )\n",
    "\n"
   ]
  },
  {
   "cell_type": "markdown",
   "metadata": {},
   "source": [
    "This is because the parameter names that we define inside the function **only exist inside the function**\n",
    "\n",
    "If I make a new variable inside add, for example, that variable will not exist outside that function"
   ]
  },
  {
   "cell_type": "code",
   "execution_count": null,
   "metadata": {
    "collapsed": true
   },
   "outputs": [],
   "source": [
    "def add2(x,y):\n",
    "    new = x + y"
   ]
  },
  {
   "cell_type": "code",
   "execution_count": null,
   "metadata": {},
   "outputs": [],
   "source": [
    "temp = None\n",
    "\n",
    "temp = add2(1,2)\n",
    "\n",
    "print(temp)\n"
   ]
  },
  {
   "cell_type": "code",
   "execution_count": null,
   "metadata": {
    "collapsed": true
   },
   "outputs": [],
   "source": [
    "#Let's try assigning the value of add2 to a variable\n",
    "\n",
    "temp = add2(1,2)\n",
    "\n",
    "print(temp)"
   ]
  },
  {
   "cell_type": "markdown",
   "metadata": {},
   "source": [
    "Why?\n"
   ]
  },
  {
   "cell_type": "markdown",
   "metadata": {},
   "source": [
    "So far, add2 is only performing some math inside itself. It's not actually giving you back any data.\n",
    "\n",
    "To do this, we have to tell the function what data to give back when we run it. We can do this with a `return` statement"
   ]
  },
  {
   "cell_type": "code",
   "execution_count": null,
   "metadata": {
    "collapsed": true
   },
   "outputs": [],
   "source": [
    "def add2(x,y):\n",
    "    list1 = []\n",
    "    if x < 10:\n",
    "        list1.append(x)\n",
    "    if y < 30:\n",
    "        list1.append(y)\n",
    "    return list1\n",
    "\n"
   ]
  },
  {
   "cell_type": "code",
   "execution_count": null,
   "metadata": {
    "collapsed": true
   },
   "outputs": [],
   "source": [
    "temp = add2(5,10)"
   ]
  },
  {
   "cell_type": "code",
   "execution_count": null,
   "metadata": {},
   "outputs": [],
   "source": [
    "temp"
   ]
  },
  {
   "cell_type": "markdown",
   "metadata": {},
   "source": [
    "As you can see, this doesn't change the fact that \"new\", as a variable name, only exists within that function. However the *value* of new, 3, is now being given back to us."
   ]
  },
  {
   "cell_type": "markdown",
   "metadata": {},
   "source": [
    "Now let's try to write a function that converts temperatures from Fahrenheit to Kelvin, and run it on a couple of different temperatures.\n",
    "\n",
    "The math invovled in this is:\n",
    "`(temperature - 32) * (5/9) + 273.15`\n",
    "\n"
   ]
  },
  {
   "cell_type": "markdown",
   "metadata": {},
   "source": [
    "### Mini Challenge 1\n",
    "\n",
    "Write the function fahr_to_kelvin that successfully gives you the value 273.15 when we give it a temperature of 32."
   ]
  },
  {
   "cell_type": "code",
   "execution_count": null,
   "metadata": {
    "collapsed": true
   },
   "outputs": [],
   "source": [
    "def fahr_to_kelvin(temp):\n",
    "    tempk = (temp - 32) * (5/9) + 273.15\n",
    "    return tempk\n",
    "    "
   ]
  },
  {
   "cell_type": "code",
   "execution_count": null,
   "metadata": {},
   "outputs": [],
   "source": [
    "fahr_to_kelvin(32)"
   ]
  },
  {
   "cell_type": "markdown",
   "metadata": {},
   "source": [
    "Now that we've seen how to turn Fahrenheit into Kelvin, it's easy to turn Kelvin into Celsius - just take the temperature and minus 273.15\n",
    "\n",
    "celsius = `kelvinTemperature - 273.15`"
   ]
  },
  {
   "cell_type": "code",
   "execution_count": null,
   "metadata": {
    "collapsed": true
   },
   "outputs": [],
   "source": [
    "def kelvin_to_celsius(tempk):\n",
    "    return tempk- 273.15"
   ]
  },
  {
   "cell_type": "code",
   "execution_count": null,
   "metadata": {
    "collapsed": true
   },
   "outputs": [],
   "source": []
  },
  {
   "cell_type": "markdown",
   "metadata": {},
   "source": [
    "What if we then want to turn fahrenheit into celsius?\n",
    "\n",
    "We could write out the math for the whole thing...but we already have some functions that do that for us!\n",
    "\n",
    "A cool thing about making a function is that we can actually use a function inside another function.\n",
    "\n",
    "If you think about it, we already are. If we were to make a function and use `list.reverse()` inside it, then we're using a *function inside your function*."
   ]
  },
  {
   "cell_type": "markdown",
   "metadata": {},
   "source": [
    "### Mini challenge 2\n",
    "\n",
    "Write a function that takes a temperature in fahrenheit, and outputs a temperature in celsius."
   ]
  },
  {
   "cell_type": "code",
   "execution_count": null,
   "metadata": {},
   "outputs": [],
   "source": [
    "def fahr_to_celsius(temp):\n",
    "    temp_k = fahr_to_kelvin(temp)\n",
    "    temp_c = kelvin_to_celsius(temp_k)\n",
    "    return (temp_c)\n",
    "\n",
    "fahr_to_celsius(32)\n"
   ]
  },
  {
   "cell_type": "code",
   "execution_count": null,
   "metadata": {},
   "outputs": [],
   "source": [
    "kelvin_to_celsius(fahr_to_celsius(32))"
   ]
  },
  {
   "cell_type": "code",
   "execution_count": null,
   "metadata": {
    "collapsed": true
   },
   "outputs": [],
   "source": []
  },
  {
   "cell_type": "markdown",
   "metadata": {},
   "source": [
    "## Function Defaults\n",
    "\n",
    "When you are defining your functions, you can actually set your parameters to have default values. \n",
    "\n",
    "You can do this by making your parameter '=' to something inside your function definition."
   ]
  },
  {
   "cell_type": "code",
   "execution_count": null,
   "metadata": {
    "collapsed": true
   },
   "outputs": [],
   "source": [
    "def HelloWorld(message, times = 1):\n",
    "    print (message * times)"
   ]
  },
  {
   "cell_type": "code",
   "execution_count": null,
   "metadata": {},
   "outputs": [],
   "source": [
    "HelloWorld()"
   ]
  },
  {
   "cell_type": "code",
   "execution_count": null,
   "metadata": {
    "collapsed": true
   },
   "outputs": [],
   "source": []
  },
  {
   "cell_type": "code",
   "execution_count": null,
   "metadata": {
    "collapsed": true
   },
   "outputs": [],
   "source": []
  },
  {
   "cell_type": "markdown",
   "metadata": {},
   "source": [
    "## User Input\n",
    "\n",
    "You can also program your code so that it can prompt a user for input.\n",
    "\n",
    "Imagine, for example, programming your `HelloWorld` function to ask the user how many times they want to print the message. Or even what the message is.\n",
    "\n",
    "To program a user input, you simply need to do:\n",
    "\n",
    "```python\n",
    "\n",
    "variableName = input()\n",
    "```\n",
    "\n",
    "You can also choose to include a message that displays when prompting the user, like this:\n",
    "\n",
    "```python\n",
    "\n",
    "variableName = input(\"This will display a message:\")\n",
    "```"
   ]
  },
  {
   "cell_type": "code",
   "execution_count": null,
   "metadata": {
    "collapsed": true
   },
   "outputs": [],
   "source": [
    "variable = str(input(\"Please enter a number: \"))"
   ]
  },
  {
   "cell_type": "code",
   "execution_count": null,
   "metadata": {
    "collapsed": true
   },
   "outputs": [],
   "source": [
    "variable"
   ]
  },
  {
   "cell_type": "markdown",
   "metadata": {},
   "source": [
    "#### Mini Challenge\n",
    "\n",
    "Make another function called HelloWorld, which prints the phrase \"Hello World!\", on separate lines, for as many times as the user tells it to."
   ]
  },
  {
   "cell_type": "code",
   "execution_count": null,
   "metadata": {
    "collapsed": true
   },
   "outputs": [],
   "source": [
    "def HelloWorld(times,message = \"Hello World!\"):\n",
    "    for i in range(times):\n",
    "        print(message)\n"
   ]
  },
  {
   "cell_type": "code",
   "execution_count": null,
   "metadata": {},
   "outputs": [],
   "source": [
    "times = input(\"How many times would you like to display the message?: \")\n",
    "times = int(times)\n",
    "\n",
    "HelloWorld(times = int(input(\"How many times would you like to display the message?: \")))\n"
   ]
  },
  {
   "cell_type": "markdown",
   "metadata": {},
   "source": [
    "## Challenge 1\n",
    "\n",
    "Remember our homework challenge, where we run through a list and then separate it's contents into separate lists?\n",
    "\n",
    "This time, your challenge is to write a function that takes \"list1\", and separates it into the same lists as previously. However, this time, the numeric cut-off for sorting is now going to be determined by the user, instead of being <= 10.\n",
    "\n",
    "**Hint:** How might we return all three of our lists? What kind of data structure could we use?"
   ]
  },
  {
   "cell_type": "code",
   "execution_count": 17,
   "metadata": {
    "collapsed": true
   },
   "outputs": [],
   "source": [
    "list1 = [1, 3.2, \"Are you having a nice day?\", 2, 4, \"difficulty increased!\", 10, 15, \n",
    "         11.5, 5, 6, 9, 8.2, 7, 14.8, 13, \n",
    "         [\"Nested list\", \"This makes it a bit harder, eh?\", \"3000000\", 4.6], 9.9]\n"
   ]
  },
  {
   "cell_type": "code",
   "execution_count": null,
   "metadata": {
    "scrolled": true
   },
   "outputs": [],
   "source": []
  },
  {
   "cell_type": "code",
   "execution_count": null,
   "metadata": {},
   "outputs": [],
   "source": []
  },
  {
   "cell_type": "code",
   "execution_count": null,
   "metadata": {},
   "outputs": [],
   "source": []
  },
  {
   "cell_type": "code",
   "execution_count": null,
   "metadata": {},
   "outputs": [],
   "source": []
  },
  {
   "cell_type": "code",
   "execution_count": null,
   "metadata": {
    "collapsed": true
   },
   "outputs": [],
   "source": []
  }
 ],
 "metadata": {
  "kernelspec": {
   "display_name": "Python 3",
   "language": "python",
   "name": "python3"
  },
  "language_info": {
   "codemirror_mode": {
    "name": "ipython",
    "version": 3
   },
   "file_extension": ".py",
   "mimetype": "text/x-python",
   "name": "python",
   "nbconvert_exporter": "python",
   "pygments_lexer": "ipython3",
   "version": "3.6.1"
  },
  "toc": {
   "colors": {
    "hover_highlight": "#DAA520",
    "navigate_num": "#000000",
    "navigate_text": "#333333",
    "running_highlight": "#FF0000",
    "selected_highlight": "#FFD700",
    "sidebar_border": "#EEEEEE",
    "wrapper_background": "#FFFFFF"
   },
   "moveMenuLeft": true,
   "nav_menu": {
    "height": "141px",
    "width": "252px"
   },
   "navigate_menu": true,
   "number_sections": true,
   "sideBar": false,
   "threshold": 4,
   "toc_cell": false,
   "toc_section_display": "block",
   "toc_window_display": false,
   "widenNotebook": false
  }
 },
 "nbformat": 4,
 "nbformat_minor": 2
}
