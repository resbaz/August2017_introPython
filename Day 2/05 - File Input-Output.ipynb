{
 "cells": [
  {
   "cell_type": "markdown",
   "metadata": {},
   "source": [
    "# File I/O and String Manipulations\n",
    "\n",
    "__Learning Objectives__:\n",
    "\n",
    "- Read in a file and be iterate over each line\n",
    "- Be able to edit a file and clean your data\n",
    "- Write your own data into a new file\n",
    "- Use what we've learned so far within the whole workshop to perform a useful task"
   ]
  },
  {
   "cell_type": "markdown",
   "metadata": {},
   "source": [
    "## File Input/Output"
   ]
  },
  {
   "cell_type": "markdown",
   "metadata": {},
   "source": [
    "Reading in files is an essential part of beingable to do any kind of data analysis, and thankfully Python makes this really easy.\n",
    "\n",
    "You create the varaible that you want your data to be inside, and you use a function called `open()`.\n",
    "\n",
    "`open()` takes three arguments - the file path/file name you want to open, the \"access mode\" (or way that you want to open it), and a buffering value. The last two values are optional though."
   ]
  },
  {
   "cell_type": "markdown",
   "metadata": {
    "collapsed": true
   },
   "source": [
    "There are 3 general \"access_modes\"\n",
    "\n",
    "- \"r\" = read. \n",
    "    - only lets you _read_ the data from the file.\n",
    "- \"w\" = write\n",
    "    - lets you _add_, or _write_ data into a file\n",
    "- \"a\" = append\n",
    "    - lets you _add_ data to the end of an existing file. \n",
    "- \"r+\" = special read/write\n",
    "    - lets you both read and write to/from the same file. "
   ]
  },
  {
   "cell_type": "markdown",
   "metadata": {},
   "source": [
    "Be careful using \"w\"/write though! If you open a file using the \"w\" option, anything that used to be inside that file will be erased. "
   ]
  },
  {
   "cell_type": "code",
   "execution_count": 117,
   "metadata": {},
   "outputs": [],
   "source": [
    "#open(file name , method of opening)\n",
    "file = open(\"Zen_of_Python.txt\",\"r\")"
   ]
  },
  {
   "cell_type": "markdown",
   "metadata": {},
   "source": [
    "Let's test the \"write\" access mode"
   ]
  },
  {
   "cell_type": "code",
   "execution_count": 118,
   "metadata": {
    "collapsed": true
   },
   "outputs": [],
   "source": [
    "example = open(\"example.txt\", \"w\")\n",
    "example.close()"
   ]
  },
  {
   "cell_type": "markdown",
   "metadata": {},
   "source": [
    "Open the file again on your computer. See how this has erased the contents of the file?"
   ]
  },
  {
   "cell_type": "markdown",
   "metadata": {},
   "source": [
    "### File Input - read() function"
   ]
  },
  {
   "cell_type": "markdown",
   "metadata": {},
   "source": [
    "Opening your file is pretty useless if you can't actually see what's in it though"
   ]
  },
  {
   "cell_type": "code",
   "execution_count": 119,
   "metadata": {},
   "outputs": [
    {
     "data": {
      "text/plain": [
       "_io.TextIOWrapper"
      ]
     },
     "execution_count": 119,
     "metadata": {},
     "output_type": "execute_result"
    }
   ],
   "source": [
    "type(file)"
   ]
  },
  {
   "cell_type": "code",
   "execution_count": 120,
   "metadata": {
    "scrolled": true
   },
   "outputs": [
    {
     "data": {
      "text/plain": [
       "\"The Zen of Python, by Tim Peters\\n\\nBeautiful is better than ugly.\\nExplicit is better than implicit.\\nSimple is better than complex.\\nComplex is better than complicated.\\nFlat is better than nested.\\nSparse is better than dense.\\nReadability counts.\\nSpecial cases aren't special enough to break the rules.\\nAlthough practicality beats purity.\\nErrors should never pass silently.\\nUnless explicitly silenced.\\nIn the face of ambiguity, refuse the temptation to guess.\\nThere should be one -- and preferably only one -- obvious way to do it.\\nAlthough that way may not be obvious at first unless you're Dutch.\\nNow is better than never.\\nAlthough never is often better than right now.\\nIf the implementation is hard to explain, it's a bad idea.\\nIf the implementation is easy to explain, it may be a good idea.\\nNamespaces are one honking great idea -- let's do more of those!\""
      ]
     },
     "execution_count": 120,
     "metadata": {},
     "output_type": "execute_result"
    }
   ],
   "source": [
    "# This will give me the whole file's contents at once\n",
    "file.read()"
   ]
  },
  {
   "cell_type": "markdown",
   "metadata": {},
   "source": [
    "So there are a few things to examine in here. \n",
    "\n",
    "When you look at the original file, you can see that each of these sentences are on different lines - but here they're all jumbled together. That's because those `\\n` symbols are \"newline\" characters - when the computer is interpreting text, it will use this newline character to tell it to print that text on a new line. \n",
    "\n",
    "We can demonstrate this by using `print()` on this text:"
   ]
  },
  {
   "cell_type": "code",
   "execution_count": 121,
   "metadata": {
    "scrolled": false
   },
   "outputs": [
    {
     "name": "stdout",
     "output_type": "stream",
     "text": [
      "The Zen of Python, by Tim Peters\n",
      "\n",
      "Beautiful is better than ugly.\n",
      "Explicit is better than implicit.\n",
      "Simple is better than complex.\n",
      "Complex is better than complicated.\n",
      "Flat is better than nested.\n",
      "Sparse is better than dense.\n",
      "Readability counts.\n",
      "Special cases aren't special enough to break the rules.\n",
      "Although practicality beats purity.\n",
      "Errors should never pass silently.\n",
      "Unless explicitly silenced.\n",
      "In the face of ambiguity, refuse the temptation to guess.\n",
      "There should be one -- and preferably only one -- obvious way to do it.\n",
      "Although that way may not be obvious at first unless you're Dutch.\n",
      "Now is better than never.\n",
      "Although never is often better than right now.\n",
      "If the implementation is hard to explain, it's a bad idea.\n",
      "If the implementation is easy to explain, it may be a good idea.\n",
      "Namespaces are one honking great idea -- let's do more of those!\n"
     ]
    }
   ],
   "source": [
    "file = open(\"Zen_of_Python.txt\",\"r\")\n",
    "file_all = file.read()\n",
    "\n",
    "print(file_all)"
   ]
  },
  {
   "cell_type": "markdown",
   "metadata": {},
   "source": [
    "The most common non-printable characters you need to know are:\n",
    "\n",
    "- \\n : new line. You may also sometimes see \\r\\n on files written by Windows systems.\n",
    "- \\t : tab"
   ]
  },
  {
   "cell_type": "code",
   "execution_count": 122,
   "metadata": {},
   "outputs": [
    {
     "data": {
      "text/plain": [
       "'The Zen of Python, by Tim Peters\\n\\nBeautiful is better than ugly.\\nExplicit is better than implicit.\\n'"
      ]
     },
     "execution_count": 122,
     "metadata": {},
     "output_type": "execute_result"
    }
   ],
   "source": [
    "# Or I can specify the number of \"bytes\", or characters, that I want to read in at once\n",
    "file = open(\"Zen_of_Python.txt\",\"r\")\n",
    "file.read(99)"
   ]
  },
  {
   "cell_type": "code",
   "execution_count": 123,
   "metadata": {},
   "outputs": [
    {
     "data": {
      "text/plain": [
       "''"
      ]
     },
     "execution_count": 123,
     "metadata": {},
     "output_type": "execute_result"
    }
   ],
   "source": [
    "# If I read the whole file though, the \"pointer\" is set at the bottom of the file. \n",
    "file = open(\"Zen_of_Python.txt\",\"r\")\n",
    "file.read() #this reads in the whole file\n",
    "file.read() #what if I run it again?"
   ]
  },
  {
   "cell_type": "markdown",
   "metadata": {},
   "source": [
    "### File Output\n",
    "\n",
    "Let's first go over how to write to a file\n",
    "\n",
    "This is actually really easy - just use `open` to create a file that you want to write to, and then you can use the `file.write()` function to write any _string_ values into that file."
   ]
  },
  {
   "cell_type": "code",
   "execution_count": 124,
   "metadata": {},
   "outputs": [],
   "source": [
    "file_out = open(\"example2.txt\", \"w\")"
   ]
  },
  {
   "cell_type": "code",
   "execution_count": 125,
   "metadata": {},
   "outputs": [
    {
     "ename": "TypeError",
     "evalue": "write() argument must be str, not int",
     "output_type": "error",
     "traceback": [
      "\u001b[1;31m---------------------------------------------------------------------------\u001b[0m",
      "\u001b[1;31mTypeError\u001b[0m                                 Traceback (most recent call last)",
      "\u001b[1;32m<ipython-input-125-e6cbfe2df4c9>\u001b[0m in \u001b[0;36m<module>\u001b[1;34m()\u001b[0m\n\u001b[1;32m----> 1\u001b[1;33m \u001b[0mfile_out\u001b[0m\u001b[1;33m.\u001b[0m\u001b[0mwrite\u001b[0m\u001b[1;33m(\u001b[0m\u001b[1;36m3\u001b[0m\u001b[1;33m)\u001b[0m \u001b[1;31m#what happens if I try to \"write\" an int?\u001b[0m\u001b[1;33m\u001b[0m\u001b[0m\n\u001b[0m",
      "\u001b[1;31mTypeError\u001b[0m: write() argument must be str, not int"
     ]
    }
   ],
   "source": [
    "file_out.write(3) #what happens if I try to \"write\" an int?"
   ]
  },
  {
   "cell_type": "code",
   "execution_count": null,
   "metadata": {
    "collapsed": true
   },
   "outputs": [],
   "source": [
    "file_out.write(\"My name is Kahli\")\n",
    "file_out.write(\"Today I am your Python instructor\")\n",
    "file_out.write(\"Now let's do a challenge\")\n",
    "\n",
    "file_out.close()\n"
   ]
  },
  {
   "cell_type": "markdown",
   "metadata": {},
   "source": [
    "Now let's have a look at what's in the file:\n",
    "\n",
    "\"My name is KahliToday I am your Python instructorNow let's do a challenge\"\n",
    "\n",
    "Oops! It's all on the same line. What could I do to make them be on a separate line?"
   ]
  },
  {
   "cell_type": "markdown",
   "metadata": {},
   "source": [
    "#### Challenge\n",
    "\n",
    "Using the `write()` function, create your own haiku inside a new file, called \"poem.txt\". Give it a title, and make sure there are two lines between the title and the poem text. \n",
    "\n",
    "Example:  \n",
    "\"\"\"   \n",
    "My Poem\n",
    "\n",
    "This is my poem   \n",
    "My poem is amazing   \n",
    "It's the best poem\n",
    "\n",
    "p.s. This poem is terrific. Don't listen to the corrupt media. CNN is fake news.   \n",
    "\"\"\""
   ]
  },
  {
   "cell_type": "code",
   "execution_count": null,
   "metadata": {
    "collapsed": true
   },
   "outputs": [],
   "source": []
  },
  {
   "cell_type": "code",
   "execution_count": null,
   "metadata": {
    "collapsed": true
   },
   "outputs": [],
   "source": []
  },
  {
   "cell_type": "code",
   "execution_count": null,
   "metadata": {
    "collapsed": true
   },
   "outputs": [],
   "source": []
  },
  {
   "cell_type": "markdown",
   "metadata": {},
   "source": [
    "### File Input - Take 2\n",
    "Often though, you only want to read through one line at a time. There are a few ways you can do this:\n",
    "\n",
    "1. You can use the `.readline()` function\n",
    "2. You can use the `.readlines()` function, and loop over it\n",
    "3. A `for` loop"
   ]
  },
  {
   "cell_type": "markdown",
   "metadata": {},
   "source": [
    "**Option 1: `readline()`**\n",
    "\n",
    "This allows you to read a single line of the file each time you run the function. Can be used in a for loop. Handy if you want to read through two different files (of the same length!) at the same time."
   ]
  },
  {
   "cell_type": "code",
   "execution_count": null,
   "metadata": {},
   "outputs": [],
   "source": [
    "file = open(\"Zen_of_Python.txt\",\"r\")"
   ]
  },
  {
   "cell_type": "code",
   "execution_count": null,
   "metadata": {},
   "outputs": [],
   "source": [
    "file.readline()"
   ]
  },
  {
   "cell_type": "markdown",
   "metadata": {},
   "source": [
    "You can also specifically tell it which lines to open"
   ]
  },
  {
   "cell_type": "code",
   "execution_count": null,
   "metadata": {},
   "outputs": [],
   "source": [
    "file.readline(10)"
   ]
  },
  {
   "cell_type": "code",
   "execution_count": null,
   "metadata": {
    "collapsed": true
   },
   "outputs": [],
   "source": []
  },
  {
   "cell_type": "markdown",
   "metadata": {},
   "source": [
    "**Option 2: `readlines()`**\n",
    "\n",
    "Reads the entire file in at once as a list, with each line occupying a list element"
   ]
  },
  {
   "cell_type": "code",
   "execution_count": null,
   "metadata": {},
   "outputs": [],
   "source": [
    "file = open(\"Zen_of_Python.txt\",\"r\")\n",
    "file_all = file.readlines()\n",
    "print(type(file_all))\n",
    "file_all"
   ]
  },
  {
   "cell_type": "markdown",
   "metadata": {
    "collapsed": true
   },
   "source": [
    " **Option 3: Using a `for` loop**\n",
    " \n",
    " When you `open` a file, the data type returned is naturally iterable. Just like using the range function, this means that you're able to loop over each element in the file."
   ]
  },
  {
   "cell_type": "code",
   "execution_count": null,
   "metadata": {},
   "outputs": [],
   "source": [
    "type(file)"
   ]
  },
  {
   "cell_type": "code",
   "execution_count": null,
   "metadata": {
    "scrolled": false
   },
   "outputs": [],
   "source": [
    "for line in file:\n",
    "    print(line)"
   ]
  },
  {
   "cell_type": "markdown",
   "metadata": {},
   "source": [
    "---\n",
    "\n",
    "Why it is printing double spaces though?\n",
    "\n",
    "If you remember looking at our `readlines()` function, you'll see that there's actually a `\\n` on the end of every line. We don't see when using the `print()` function, because the computer automatically removes those when rendering the text - they're non-printed characters. \n",
    "\n",
    "However, when we've previously used the `print()` function multiple times in the same cell, you'll notice that each output ends up on a different line:"
   ]
  },
  {
   "cell_type": "code",
   "execution_count": null,
   "metadata": {},
   "outputs": [],
   "source": [
    "print(\"Line 1\")\n",
    "print(\"Line 2\")\n",
    "print(\"Line 3\")"
   ]
  },
  {
   "cell_type": "markdown",
   "metadata": {},
   "source": [
    "Although we can't see them in the output, `print()` is actually adding it's _own_ newline characters to end of each line's output as well. That means that when we print our own lines - which already _have_ newlines, we're actually printing double spaces.\n",
    "\n",
    "To remove this issue, we'll want to remove those characters before we print."
   ]
  },
  {
   "cell_type": "markdown",
   "metadata": {},
   "source": [
    "**with open() as name**  \n",
    "Another option while reading our files is open the file as a _handle_, like so:"
   ]
  },
  {
   "cell_type": "code",
   "execution_count": null,
   "metadata": {
    "scrolled": false
   },
   "outputs": [],
   "source": [
    "with open(\"Zen_of_Python.txt\",\"r\") as file:\n",
    "    for line in file.readlines():\n",
    "        print(line)"
   ]
  },
  {
   "cell_type": "markdown",
   "metadata": {},
   "source": [
    "This version is popular because it will automatically `close()` the file once it reaches the end of the document. "
   ]
  },
  {
   "cell_type": "markdown",
   "metadata": {},
   "source": [
    "#### Challenge\n",
    "\n",
    "Using the file \"Robin.txt\", print out every second line of the file.  \n",
    "Assume that the lines of the file start counting from 1, not 0. \n"
   ]
  },
  {
   "cell_type": "code",
   "execution_count": null,
   "metadata": {
    "collapsed": true
   },
   "outputs": [],
   "source": []
  },
  {
   "cell_type": "code",
   "execution_count": null,
   "metadata": {
    "collapsed": true
   },
   "outputs": [],
   "source": []
  },
  {
   "cell_type": "markdown",
   "metadata": {},
   "source": [
    "## String Manipulations\n",
    "\n",
    "We've already seen a couple of string manipulations on Day 1 - functions like `upper()`, `lower()`, `capitalize()` and `title()`. Today, you're going to learn about:\n",
    "\n",
    "- `strip()`, `lstrip()` & `rstrip()`\n",
    "- `split()`\n",
    "- `find()`\n",
    "- `replace()`\n",
    "- `join()`\n"
   ]
  },
  {
   "cell_type": "markdown",
   "metadata": {},
   "source": [
    "#### Strip()"
   ]
  },
  {
   "cell_type": "code",
   "execution_count": null,
   "metadata": {
    "collapsed": true
   },
   "outputs": [],
   "source": [
    "string = \"\\nThis is a string that I want to get rid of stuff from\\tWoot!\\t\\n\""
   ]
  },
  {
   "cell_type": "code",
   "execution_count": null,
   "metadata": {},
   "outputs": [],
   "source": [
    "# Strip() will remove whitespace and all non-printed characters from either end of a string\n",
    "string.strip()"
   ]
  },
  {
   "cell_type": "code",
   "execution_count": null,
   "metadata": {},
   "outputs": [],
   "source": [
    "# You can also specify what you want to remove. It doesn't have to be whitespace either!\n",
    "\n",
    "string = \"\\nThis is a string that I want to get rid of stuff from. Woot!\\t\\n\"\n",
    "string.rstrip(\"\\n\")"
   ]
  },
  {
   "cell_type": "code",
   "execution_count": null,
   "metadata": {},
   "outputs": [],
   "source": [
    "string = \"\\nThis is a string that I want to get rid of stuff from. Woot!\"\n",
    "string.rstrip(\" Woot!\")"
   ]
  },
  {
   "cell_type": "markdown",
   "metadata": {},
   "source": [
    "I can also specify multiple items to strip off"
   ]
  },
  {
   "cell_type": "code",
   "execution_count": null,
   "metadata": {},
   "outputs": [],
   "source": [
    "string = \"Example!*%#^\"\n",
    "string.strip(\"*^#%\") #characters in any order"
   ]
  },
  {
   "cell_type": "code",
   "execution_count": null,
   "metadata": {
    "collapsed": true
   },
   "outputs": [],
   "source": []
  },
  {
   "cell_type": "markdown",
   "metadata": {},
   "source": [
    "#### Split()\n",
    "\n",
    "We can also use the `split()` command to split our strings into a list"
   ]
  },
  {
   "cell_type": "code",
   "execution_count": null,
   "metadata": {},
   "outputs": [],
   "source": [
    "string = \"This\\nis a\\tstring I want to split\"\n",
    "\n",
    "string.split()"
   ]
  },
  {
   "cell_type": "markdown",
   "metadata": {},
   "source": [
    "This works on _all_ whitespace (including non-printed characters) as standard, but you can specify what you want it to split on."
   ]
  },
  {
   "cell_type": "code",
   "execution_count": null,
   "metadata": {},
   "outputs": [],
   "source": [
    "string = \"This\\nis a\\tstring I want to split\"\n",
    "\n",
    "string.split(\" \") #will split on the spaces only"
   ]
  },
  {
   "cell_type": "markdown",
   "metadata": {
    "collapsed": true
   },
   "source": [
    "#### Challenge\n",
    "\n",
    "For every line inside the Zen of Python, strip each line of the unwanted non-printed characters and spaces. Then, split the line on whitespace, and print each line/list\n",
    "\n",
    "e.g.   \n",
    "_Input:_  \n",
    "file = \"First Line\\n Second Line\\n\"  \n",
    "\n",
    "_Output:_  \n",
    "[First,Line]  \n",
    "[Second,Line]  \n"
   ]
  },
  {
   "cell_type": "code",
   "execution_count": null,
   "metadata": {},
   "outputs": [],
   "source": []
  },
  {
   "cell_type": "code",
   "execution_count": null,
   "metadata": {
    "collapsed": true
   },
   "outputs": [],
   "source": []
  },
  {
   "cell_type": "markdown",
   "metadata": {},
   "source": [
    "** Find() **\n",
    "\n",
    "Find allows you to...you guessed it! Find something inside your string.\n",
    "\n",
    "The general structure is `\"str to search inside\".find(\"string to find\", start pos, end pos)`\n",
    "\n",
    "The start and end are optional - the default values for those are just the start and end of your first string"
   ]
  },
  {
   "cell_type": "code",
   "execution_count": null,
   "metadata": {
    "collapsed": true
   },
   "outputs": [],
   "source": [
    "str1 = \"This is my long string\"\n",
    "str2 = \"is\""
   ]
  },
  {
   "cell_type": "code",
   "execution_count": null,
   "metadata": {},
   "outputs": [],
   "source": [
    "str1.find(str2)"
   ]
  },
  {
   "cell_type": "code",
   "execution_count": null,
   "metadata": {},
   "outputs": [],
   "source": [
    "str1.find(str2,3)"
   ]
  },
  {
   "cell_type": "markdown",
   "metadata": {
    "collapsed": true
   },
   "source": [
    "If the thing you're searching for doesn't exist, `find()` will just return a -1"
   ]
  },
  {
   "cell_type": "code",
   "execution_count": null,
   "metadata": {},
   "outputs": [],
   "source": [
    "str1.find(\"k\")"
   ]
  },
  {
   "cell_type": "markdown",
   "metadata": {},
   "source": [
    "#### Team Discussion\n",
    "\n",
    "How do you think you might use `find`? What applications could it be useful for?"
   ]
  },
  {
   "cell_type": "code",
   "execution_count": null,
   "metadata": {
    "collapsed": true
   },
   "outputs": [],
   "source": []
  },
  {
   "cell_type": "markdown",
   "metadata": {},
   "source": [
    "#### Replace()\n",
    "\n",
    "Replace kind of works like \"find and replace all\" in MS Excel. \n",
    "\n",
    "`replace()` takes two arguments - the string to find, and what to replace it with.\n",
    "\n",
    "`\"string\".replace(\"what to replace\", \"what to replace it with\")`"
   ]
  },
  {
   "cell_type": "code",
   "execution_count": null,
   "metadata": {},
   "outputs": [],
   "source": [
    "str1"
   ]
  },
  {
   "cell_type": "code",
   "execution_count": null,
   "metadata": {},
   "outputs": [],
   "source": [
    "str1.replace(\"is\",\" \")"
   ]
  },
  {
   "cell_type": "code",
   "execution_count": null,
   "metadata": {},
   "outputs": [],
   "source": [
    "str1.replace(\"is\",\"\")"
   ]
  },
  {
   "cell_type": "code",
   "execution_count": null,
   "metadata": {
    "collapsed": true
   },
   "outputs": [],
   "source": []
  },
  {
   "cell_type": "markdown",
   "metadata": {},
   "source": [
    "#### Join()\n",
    "\n",
    "Join() will take a list and then join all of the elements together to make a single string\n",
    "\n",
    "`\"what to place between each list element\".join(list to join)`"
   ]
  },
  {
   "cell_type": "code",
   "execution_count": null,
   "metadata": {},
   "outputs": [],
   "source": [
    "stringList = [\"This\", \"is\", \"my\", \"string\",\"example\"]\n",
    "\n",
    "# Placing spaces bwtween each word\n",
    "\" \".join(stringList)"
   ]
  },
  {
   "cell_type": "code",
   "execution_count": null,
   "metadata": {},
   "outputs": [],
   "source": [
    "# Tab characters - could be useful for spreadsheets?\n",
    "\"\\t\".join(stringList)"
   ]
  },
  {
   "cell_type": "code",
   "execution_count": null,
   "metadata": {},
   "outputs": [],
   "source": [
    "# commas. Useful for *.csv files?\n",
    "\",\".join(stringList)"
   ]
  },
  {
   "cell_type": "code",
   "execution_count": null,
   "metadata": {},
   "outputs": [],
   "source": [
    "# No spaces. Just join the words\n",
    "\"\".join(stringList)"
   ]
  },
  {
   "cell_type": "code",
   "execution_count": null,
   "metadata": {},
   "outputs": [],
   "source": [
    "# BUT all list elements MUST be strings\n",
    "stringList = [\"This\", \"is\", \"my\", \"string\",\"example\", 3]\n",
    "\"\".join(stringList)"
   ]
  },
  {
   "cell_type": "markdown",
   "metadata": {},
   "source": [
    "#### Challenge\n",
    "\n",
    "Read in the Zen of Python, and print the poem again, but with all of the punctuation removed from each line.\n",
    "\n",
    "e.g.   \n",
    "Input: \"The Zen, of Python!\\n\"   \n",
    "Output: \"The Zen of Python\"\n",
    "    \n",
    "Hint 1 - how might you remove any punctuation characters from within a sentence?  \n",
    "Hint 2 - remember that you can combine multiple characters inside `strip()`"
   ]
  },
  {
   "cell_type": "code",
   "execution_count": null,
   "metadata": {
    "collapsed": true
   },
   "outputs": [],
   "source": []
  }
 ],
 "metadata": {
  "kernelspec": {
   "display_name": "Python 3",
   "language": "python",
   "name": "python3"
  },
  "language_info": {
   "codemirror_mode": {
    "name": "ipython",
    "version": 3
   },
   "file_extension": ".py",
   "mimetype": "text/x-python",
   "name": "python",
   "nbconvert_exporter": "python",
   "pygments_lexer": "ipython3",
   "version": "3.6.1"
  },
  "toc": {
   "colors": {
    "hover_highlight": "#DAA520",
    "navigate_num": "#000000",
    "navigate_text": "#333333",
    "running_highlight": "#FF0000",
    "selected_highlight": "#FFD700",
    "sidebar_border": "#EEEEEE",
    "wrapper_background": "#FFFFFF"
   },
   "moveMenuLeft": true,
   "nav_menu": {
    "height": "288px",
    "width": "252px"
   },
   "navigate_menu": true,
   "number_sections": false,
   "sideBar": false,
   "threshold": 4,
   "toc_cell": false,
   "toc_position": {
    "height": "139px",
    "left": "834.138px",
    "right": "20px",
    "top": "71px",
    "width": "241px"
   },
   "toc_section_display": "none",
   "toc_window_display": true,
   "widenNotebook": false
  }
 },
 "nbformat": 4,
 "nbformat_minor": 2
}
