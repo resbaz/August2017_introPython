{
 "cells": [
  {
   "cell_type": "markdown",
   "metadata": {},
   "source": [
    "# Error Handling\n",
    "\n",
    "**Learning Objectives**:\n",
    "\n",
    "- Explain the purpose of defensive programming\n",
    "- Explain how and why we use assertions\n",
    "- Create a function that uses `try` and `except` to catch errors\n",
    "- Create a function that uses `assert` to prevent errors"
   ]
  },
  {
   "cell_type": "markdown",
   "metadata": {},
   "source": [
    "As you may have already noticed when making our functions, and loops, etc, we encounter errors. A lot.\n",
    "\n",
    "Sometimes these errors are because we've mis-spelled a command (damn those typos!), or tried to use the wrong variable name, or the wrong variable, etc.\n",
    "\n",
    "However, you can actually choose to define how your computer handles errors, including what kind of messages it returns, and when to actually raise an error."
   ]
  },
  {
   "cell_type": "code",
   "execution_count": 6,
   "metadata": {
    "scrolled": true
   },
   "outputs": [
    {
     "name": "stdout",
     "output_type": "stream",
     "text": [
      "Please input a number > 1: This\n"
     ]
    },
    {
     "ename": "ValueError",
     "evalue": "invalid literal for int() with base 10: 'This'",
     "output_type": "error",
     "traceback": [
      "\u001b[1;31m---------------------------------------------------------------------------\u001b[0m",
      "\u001b[1;31mValueError\u001b[0m                                Traceback (most recent call last)",
      "\u001b[1;32m<ipython-input-6-fbbd743bdc88>\u001b[0m in \u001b[0;36m<module>\u001b[1;34m()\u001b[0m\n\u001b[0;32m      4\u001b[0m \u001b[0mnum\u001b[0m \u001b[1;33m=\u001b[0m \u001b[0minput\u001b[0m\u001b[1;33m(\u001b[0m\u001b[1;34m\"Please input a number > 1: \"\u001b[0m\u001b[1;33m)\u001b[0m\u001b[1;33m\u001b[0m\u001b[0m\n\u001b[0;32m      5\u001b[0m \u001b[1;33m\u001b[0m\u001b[0m\n\u001b[1;32m----> 6\u001b[1;33m \u001b[0mnum\u001b[0m \u001b[1;33m=\u001b[0m \u001b[0mint\u001b[0m\u001b[1;33m(\u001b[0m\u001b[0mnum\u001b[0m\u001b[1;33m)\u001b[0m\u001b[1;33m\u001b[0m\u001b[0m\n\u001b[0m\u001b[0;32m      7\u001b[0m \u001b[1;33m\u001b[0m\u001b[0m\n\u001b[0;32m      8\u001b[0m \u001b[1;32mwhile\u001b[0m \u001b[0mnum\u001b[0m \u001b[1;33m>\u001b[0m \u001b[1;36m1\u001b[0m\u001b[1;33m:\u001b[0m\u001b[1;33m\u001b[0m\u001b[0m\n",
      "\u001b[1;31mValueError\u001b[0m: invalid literal for int() with base 10: 'This'"
     ]
    }
   ],
   "source": [
    "# Sometimes it's better to cause an error early, than to have your computer throw a fit later\n",
    "\n",
    "# What if someone put in a string instead? Or a number < 1?\n",
    "num = input(\"Please input a number > 1: \")\n",
    "\n",
    "num = int(num)\n",
    "\n",
    "while num > 1:\n",
    "    print(\"My loop is running! At least %i more times to go\" % (num - 2))\n",
    "    num -= 1"
   ]
  },
  {
   "cell_type": "markdown",
   "metadata": {},
   "source": [
    "In one case, we have what is called a \"silent error\", where the program fails or doesn't perform the thing that you want it to, but it doesn't give you any error messages.\n",
    "\n",
    "In the other, the user has obviously given us data that is incompatible with the code that we've written, and we're getting a type error.\n",
    "\n",
    "There are two ways we can deal with this; assertions, and try/except"
   ]
  },
  {
   "cell_type": "markdown",
   "metadata": {},
   "source": [
    "## Assertions"
   ]
  },
  {
   "cell_type": "markdown",
   "metadata": {
    "collapsed": true
   },
   "source": [
    "Like an `if` statement, `assert` tests that a condition (which you give it) is true, and throws an error and terminates your code if it's not."
   ]
  },
  {
   "cell_type": "markdown",
   "metadata": {},
   "source": [
    "Assertions are a systematic way to check that the internal state of a program is as you, the programmer, expects, with the goal of catching bugs. \n",
    "\n",
    "In particular, they're good for catching false assumptions that were made while writing the code, or abuse of an interface (like user input). \n",
    "\n",
    "In addition, they can act as in-line documentation to some extent. When you're going through your code later on, or when another programmer is going through it, they can immediately see what assumptions and requirements are required."
   ]
  },
  {
   "cell_type": "markdown",
   "metadata": {},
   "source": [
    "To program an assertion, you simply do: `assert(condition), \"Error Message You Want To Print\""
   ]
  },
  {
   "cell_type": "code",
   "execution_count": 11,
   "metadata": {},
   "outputs": [
    {
     "ename": "AssertionError",
     "evalue": "Number is less than 1. Please try again",
     "output_type": "error",
     "traceback": [
      "\u001b[1;31m---------------------------------------------------------------------------\u001b[0m",
      "\u001b[1;31mAssertionError\u001b[0m                            Traceback (most recent call last)",
      "\u001b[1;32m<ipython-input-11-47034a926c68>\u001b[0m in \u001b[0;36m<module>\u001b[1;34m()\u001b[0m\n\u001b[0;32m      2\u001b[0m \u001b[0mnum\u001b[0m \u001b[1;33m=\u001b[0m \u001b[1;36m1\u001b[0m\u001b[1;33m\u001b[0m\u001b[0m\n\u001b[0;32m      3\u001b[0m \u001b[1;33m\u001b[0m\u001b[0m\n\u001b[1;32m----> 4\u001b[1;33m \u001b[1;32massert\u001b[0m \u001b[0mnum\u001b[0m \u001b[1;33m>\u001b[0m \u001b[1;36m1\u001b[0m\u001b[1;33m,\u001b[0m \u001b[1;34m\"Number is less than 1. Please try again\"\u001b[0m\u001b[1;33m\u001b[0m\u001b[0m\n\u001b[0m\u001b[0;32m      5\u001b[0m \u001b[1;33m\u001b[0m\u001b[0m\n\u001b[0;32m      6\u001b[0m \u001b[0mprint\u001b[0m\u001b[1;33m(\u001b[0m\u001b[1;34m\"We've successfully made it past the assertion\"\u001b[0m\u001b[1;33m)\u001b[0m\u001b[1;33m\u001b[0m\u001b[0m\n",
      "\u001b[1;31mAssertionError\u001b[0m: Number is less than 1. Please try again"
     ]
    }
   ],
   "source": [
    "#The basics of how to write an assert\n",
    "num = 1\n",
    "\n",
    "assert num > 1, \"Number is less than 1. Please try again\"\n",
    "\n",
    "print(\"We've successfully made it past the assertion\")"
   ]
  },
  {
   "cell_type": "markdown",
   "metadata": {
    "collapsed": true
   },
   "source": [
    "### Mini Challenge \n",
    "\n",
    "Try to write our previous while loop again, but this time with assertions to check that all of the conditions we need are correct."
   ]
  },
  {
   "cell_type": "code",
   "execution_count": null,
   "metadata": {
    "collapsed": true
   },
   "outputs": [],
   "source": []
  },
  {
   "cell_type": "code",
   "execution_count": null,
   "metadata": {
    "collapsed": true
   },
   "outputs": [],
   "source": []
  },
  {
   "cell_type": "code",
   "execution_count": null,
   "metadata": {
    "collapsed": true
   },
   "outputs": [],
   "source": []
  },
  {
   "cell_type": "markdown",
   "metadata": {},
   "source": [
    "## Try/Except"
   ]
  },
  {
   "cell_type": "markdown",
   "metadata": {},
   "source": [
    "Another way to catch errors is within `try`/`except` blocks.\n",
    "\n",
    "What happens here is that you write the code that you think will give you errors inside a `try` block. \n",
    "\n",
    "If the error occurs, your code will cut off where it's currently at, and then go into your `except` block instead.\n",
    "\n",
    "For example:\n",
    "\n"
   ]
  },
  {
   "cell_type": "code",
   "execution_count": 24,
   "metadata": {},
   "outputs": [
    {
     "name": "stdout",
     "output_type": "stream",
     "text": [
      "Please write an integer: t\n",
      "Please input a valid number\n",
      "ValueError(\"invalid literal for int() with base 10: 't'\",)\n"
     ]
    }
   ],
   "source": [
    "try:\n",
    "    num = str(input(\"Please write an integer: \"))\n",
    "    num = int(num)\n",
    "    \n",
    "except Exception as e:\n",
    "    print(\"Please input a valid number\")\n",
    "    print (repr(e)) # can also add this to print out both the error info, and the value"
   ]
  },
  {
   "cell_type": "code",
   "execution_count": null,
   "metadata": {
    "collapsed": true
   },
   "outputs": [],
   "source": []
  },
  {
   "cell_type": "markdown",
   "metadata": {},
   "source": [
    "In addition to using an except block after the try block, you can also use the\n",
    "finally block. \n",
    "\n",
    "The code in the finally block will be executed regardless of whether an exception\n",
    "occurs."
   ]
  },
  {
   "cell_type": "code",
   "execution_count": 13,
   "metadata": {},
   "outputs": [
    {
     "name": "stdout",
     "output_type": "stream",
     "text": [
      "Please write an integer: tr\n",
      "Please input a valid number\n",
      "I might choose to put some code here to close a file, for example\n"
     ]
    }
   ],
   "source": [
    "try:\n",
    "    num = str(input(\"Please write an integer: \"))\n",
    "    num = int(num)\n",
    "    \n",
    "except Exception as e:\n",
    "    print(\"Please input a valid number\")\n",
    "\n",
    "finally:\n",
    "    print(\"I might choose to put some code here to close a file, for example\")"
   ]
  },
  {
   "cell_type": "code",
   "execution_count": null,
   "metadata": {
    "collapsed": true
   },
   "outputs": [],
   "source": []
  },
  {
   "cell_type": "code",
   "execution_count": null,
   "metadata": {
    "collapsed": true
   },
   "outputs": [],
   "source": []
  },
  {
   "cell_type": "markdown",
   "metadata": {},
   "source": [
    "Above all, we want our error messages to be *informative*, and tell you what's going wrong. \n",
    "\n",
    "So for example, say that you've placed a lot of code into a single try block. Inside this code, you're reading in a file, taking some user input, and doing some type conversion. This means there are three major areas where an error could occur. \n",
    "\n",
    "If your file doesn't exist, you don't want it to print the same error message as the user input error. That wouldn't make any sense! How could you tell which problem your code is having?\n",
    "\n",
    "Instead, we can chain different `except` blocks together, with each only representing a single type of error. This is similar to how we used `elif` statements in the past, where we can type one many different elif statements, each testing for a condition specific to that block."
   ]
  },
  {
   "cell_type": "markdown",
   "metadata": {},
   "source": [
    "Some of the common exception errors are:\n",
    "\n",
    "**IOError**: \n",
    "If the file cannot be opened.\n",
    "\n",
    "**ImportError**:\n",
    "If python cannot find the package you're trying to import\n",
    "\n",
    "**ValueError**:\n",
    "Raised when a built-in operation or function receives an argument that has the right type but an inappropriate value. E.g. A function only wants you to type in \"float\", \"int\" or \"str\", but you've instead written \"apple\"\n",
    "\n",
    "**KeyboardInterrupt**:\n",
    "Raised when the user hits the interrupt key (normally Control-C or Delete)\n",
    "\n",
    "**EOFError**:\n",
    "Raised when one of the built-in functions (input() or raw_input()) hits an end-of-file condition (EOF) without reading any data"
   ]
  },
  {
   "cell_type": "code",
   "execution_count": 23,
   "metadata": {},
   "outputs": [
    {
     "name": "stdout",
     "output_type": "stream",
     "text": [
      "Please write an integer: t\n",
      "Please insert an integer\n",
      "ValueError(\"invalid literal for int() with base 10: 't'\",)\n",
      "Error? No error? I dont know!\n"
     ]
    }
   ],
   "source": [
    "try:\n",
    "    num = str(input(\"Please write an integer: \"))\n",
    "    num = int(num)\n",
    "    print(num**num)\n",
    "    \n",
    "except ValueError as e:\n",
    "    print(\"Please insert an integer\")\n",
    "    \n",
    "except EOFError as e:\n",
    "    print(\"You didn't read in any data. Why.\")\n",
    "    \n",
    "except Exception as e:\n",
    "    print(\"This would catch most other errors\")\n",
    "\n",
    "finally:\n",
    "    print(\"Error? No error? I dont know!\")"
   ]
  },
  {
   "cell_type": "code",
   "execution_count": null,
   "metadata": {
    "collapsed": true
   },
   "outputs": [],
   "source": []
  },
  {
   "cell_type": "markdown",
   "metadata": {},
   "source": [
    "You can also include the `raise` statement within your try blocks, or even inside your functions, to MAKE the code break if a particular condition isn't met."
   ]
  },
  {
   "cell_type": "code",
   "execution_count": 29,
   "metadata": {},
   "outputs": [
    {
     "name": "stdout",
     "output_type": "stream",
     "text": [
      "Please write an integer greater than 0: 0\n",
      "Please insert a valid integer\n",
      "Error? No error? I dont know!\n"
     ]
    }
   ],
   "source": [
    "try:\n",
    "    num = str(input(\"Please write an integer greater than 0: \"))\n",
    "    num = int(num)\n",
    "    if num <= 0:\n",
    "        raise ValueError(\"Your integer wasn't greater than 0\") #this message here represents e\n",
    "    \n",
    "except ValueError as e:\n",
    "    print(\"Please insert a valid integer\")\n",
    "    \n",
    "except Exception as e:\n",
    "    print(\"This would catch most other errors\")\n",
    "\n",
    "finally:\n",
    "    print(\"Error? No error? I dont know!\")"
   ]
  },
  {
   "cell_type": "code",
   "execution_count": null,
   "metadata": {
    "collapsed": true
   },
   "outputs": [],
   "source": []
  },
  {
   "cell_type": "markdown",
   "metadata": {},
   "source": [
    "### Challenge\n",
    "\n",
    "Try to write our previous code from the challenge, but this time combine assertions and try, with specific error messages that tell us what went wrong\n",
    "\n",
    "```python\n",
    "# What if someone put in a string instead? Or a number < 1?\n",
    "num = input(\"Please input a number > 1: \")\n",
    "\n",
    "num = int(num)\n",
    "\n",
    "while num > 1:\n",
    "    print(\"My loop is running! At least %i more times to go\" % (num - 2))\n",
    "    num -= 1\n",
    "```"
   ]
  },
  {
   "cell_type": "code",
   "execution_count": null,
   "metadata": {
    "collapsed": true
   },
   "outputs": [],
   "source": []
  },
  {
   "cell_type": "code",
   "execution_count": null,
   "metadata": {
    "collapsed": true
   },
   "outputs": [],
   "source": []
  },
  {
   "cell_type": "code",
   "execution_count": null,
   "metadata": {
    "collapsed": true
   },
   "outputs": [],
   "source": []
  },
  {
   "cell_type": "code",
   "execution_count": null,
   "metadata": {
    "collapsed": true
   },
   "outputs": [],
   "source": []
  },
  {
   "cell_type": "code",
   "execution_count": null,
   "metadata": {
    "collapsed": true
   },
   "outputs": [],
   "source": []
  },
  {
   "cell_type": "markdown",
   "metadata": {
    "collapsed": true
   },
   "source": [
    "# Final Challenge!\n",
    "\n",
    "Read in the file, \"Zen_of_Python.txt\", and - using dictionaries and appropriate error handling - count the number of times each case-insensitive word occurs. (Remember, Python will read \"Word\" =/= \"word\").\n",
    "\n",
    "Then, find a print out the word that occurs the most amount of times, EXCEPT if the word is \"if\", \"is\" or \"the\".\n",
    "\n",
    "You can find a skeleton of the code required below. You will need to add extra code to make the current lines work, and add extra conditions and checks to ensure that you get the right answer"
   ]
  },
  {
   "cell_type": "code",
   "execution_count": 10,
   "metadata": {},
   "outputs": [
    {
     "name": "stdout",
     "output_type": "stream",
     "text": [
      "The most common word was None, which appeared 0 times\n"
     ]
    }
   ],
   "source": [
    "try:\n",
    "\n",
    "    \n",
    "except Exception as e:\n",
    "\n",
    "\n",
    "\n",
    "\n",
    "counts = dict()\n",
    "\n",
    "for line in file:\n",
    "\n",
    "    \n",
    "    \n",
    "file.close()\n",
    "\n",
    "maximum = 0\n",
    "maxWord = None\n",
    "\n",
    "\n",
    "\n",
    "print(\"The most common word was %s, which appeared %i times\" % (maxWord,maximum))\n"
   ]
  },
  {
   "cell_type": "code",
   "execution_count": null,
   "metadata": {
    "collapsed": true
   },
   "outputs": [],
   "source": []
  }
 ],
 "metadata": {
  "kernelspec": {
   "display_name": "Python 3",
   "language": "python",
   "name": "python3"
  },
  "language_info": {
   "codemirror_mode": {
    "name": "ipython",
    "version": 3
   },
   "file_extension": ".py",
   "mimetype": "text/x-python",
   "name": "python",
   "nbconvert_exporter": "python",
   "pygments_lexer": "ipython3",
   "version": "3.6.1"
  },
  "toc": {
   "colors": {
    "hover_highlight": "#DAA520",
    "navigate_num": "#000000",
    "navigate_text": "#333333",
    "running_highlight": "#FF0000",
    "selected_highlight": "#FFD700",
    "sidebar_border": "#EEEEEE",
    "wrapper_background": "#FFFFFF"
   },
   "moveMenuLeft": true,
   "nav_menu": {
    "height": "122px",
    "width": "252px"
   },
   "navigate_menu": true,
   "number_sections": false,
   "sideBar": false,
   "threshold": 4,
   "toc_cell": false,
   "toc_position": {
    "height": "162px",
    "left": "881.45px",
    "right": "20px",
    "top": "71px",
    "width": "200px"
   },
   "toc_section_display": "none",
   "toc_window_display": true,
   "widenNotebook": false
  }
 },
 "nbformat": 4,
 "nbformat_minor": 2
}
