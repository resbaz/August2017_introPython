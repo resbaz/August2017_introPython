{
 "cells": [
  {
   "cell_type": "markdown",
   "metadata": {
    "toc": "true"
   },
   "source": [
    "# Table of Contents\n",
    " <p><div class=\"lev1 toc-item\"><a href=\"#Introduction-to-Jupyter-Notebook\" data-toc-modified-id=\"Introduction-to-Jupyter-Notebook-1\"><span class=\"toc-item-num\">1&nbsp;&nbsp;</span>Introduction to Jupyter Notebook</a></div><div class=\"lev1 toc-item\"><a href=\"#Introduction-to-Python\" data-toc-modified-id=\"Introduction-to-Python-2\"><span class=\"toc-item-num\">2&nbsp;&nbsp;</span>Introduction to Python</a></div><div class=\"lev3 toc-item\"><a href=\"#Learning-Objectives:\" data-toc-modified-id=\"Learning-Objectives:-201\"><span class=\"toc-item-num\">2.0.1&nbsp;&nbsp;</span>Learning Objectives:</a></div><div class=\"lev4 toc-item\"><a href=\"#Challenge-1\" data-toc-modified-id=\"Challenge-1-2011\"><span class=\"toc-item-num\">2.0.1.1&nbsp;&nbsp;</span>Challenge 1</a></div><div class=\"lev3 toc-item\"><a href=\"#Strings\" data-toc-modified-id=\"Strings-202\"><span class=\"toc-item-num\">2.0.2&nbsp;&nbsp;</span>Strings</a></div><div class=\"lev3 toc-item\"><a href=\"#Data-Type-Coercion\" data-toc-modified-id=\"Data-Type-Coercion-203\"><span class=\"toc-item-num\">2.0.3&nbsp;&nbsp;</span>Data Type Coercion</a></div><div class=\"lev4 toc-item\"><a href=\"#Challenge-2\" data-toc-modified-id=\"Challenge-2-2031\"><span class=\"toc-item-num\">2.0.3.1&nbsp;&nbsp;</span>Challenge 2</a></div><div class=\"lev4 toc-item\"><a href=\"#Challenge-3\" data-toc-modified-id=\"Challenge-3-2032\"><span class=\"toc-item-num\">2.0.3.2&nbsp;&nbsp;</span>Challenge 3</a></div><div class=\"lev3 toc-item\"><a href=\"#Variables\" data-toc-modified-id=\"Variables-204\"><span class=\"toc-item-num\">2.0.4&nbsp;&nbsp;</span>Variables</a></div><div class=\"lev4 toc-item\"><a href=\"#Optional-Challenge\" data-toc-modified-id=\"Optional-Challenge-2041\"><span class=\"toc-item-num\">2.0.4.1&nbsp;&nbsp;</span>Optional Challenge</a></div><div class=\"lev3 toc-item\"><a href=\"#The-dark-art-of-variable-Names:\" data-toc-modified-id=\"The-dark-art-of-variable-Names:-205\"><span class=\"toc-item-num\">2.0.5&nbsp;&nbsp;</span>The dark art of variable Names:</a></div><div class=\"lev4 toc-item\"><a href=\"#Challenge-4\" data-toc-modified-id=\"Challenge-4-2051\"><span class=\"toc-item-num\">2.0.5.1&nbsp;&nbsp;</span>Challenge 4</a></div><div class=\"lev4 toc-item\"><a href=\"#Challenge-5\" data-toc-modified-id=\"Challenge-5-2052\"><span class=\"toc-item-num\">2.0.5.2&nbsp;&nbsp;</span>Challenge 5</a></div>"
   ]
  },
  {
   "cell_type": "markdown",
   "metadata": {},
   "source": [
    "# Introduction to Jupyter Notebook"
   ]
  },
  {
   "cell_type": "markdown",
   "metadata": {},
   "source": [
    "\n",
    "For the next 10-15 minutes we're all going to go through the Jupyter Notebook interface and figure out exactly how it's used. \n",
    "\n",
    "Each of the \"boxes\" you can see here are called \"cells\", and these allow you to write and run code, or take notes. Every time you make a new cells it defaults to being a \"code\" cell, for programming. \n",
    "\n",
    "However, you'll notice that this section is just plain text. This is known as a \"markdown\" cell, and this can be used to take notes, or even to help format reports. You can change whether a cell is in the markdown or code format using the toggle bar up the top. \n",
    "\n",
    "There are also a range of keyboard shortcuts that allow you to easily perform a variety of actions on these cells. You can find these under the \"help\" menu item, or in the \"command palette\" (looks like a keyboard) on the side of command toggle bar. An external file for jupyter commands can be found on the [github](https://github.com/resbaz/introPython_July2017/blob/master/jupyterNotebook_Cheatsheet.pdf)."
   ]
  },
  {
   "cell_type": "markdown",
   "metadata": {
    "collapsed": true
   },
   "source": [
    "This is a markdown cell, before you \"run\" it\n",
    "\n",
    "To \"run\" a cell, you can use the keyboard command Shift-Enter, or the control bar"
   ]
  },
  {
   "cell_type": "markdown",
   "metadata": {},
   "source": [
    "\n"
   ]
  },
  {
   "cell_type": "code",
   "execution_count": null,
   "metadata": {
    "collapsed": true
   },
   "outputs": [],
   "source": []
  },
  {
   "cell_type": "markdown",
   "metadata": {
    "collapsed": true
   },
   "source": [
    "# Introduction to Python"
   ]
  },
  {
   "cell_type": "markdown",
   "metadata": {
    "collapsed": true
   },
   "source": [
    "Now that we're a bit more familiar with the Jupyter environment, let's play around with some Python\n",
    "\n",
    "### Learning Objectives:\n",
    "- Learn the basic numeric and string data types\n",
    "- Type conversion\n",
    "- Be able to apply type-specific functions to each of:\n",
    "    - **Integers (int)**: \n",
    "        - Basic numeric functions: addition, subtraction, division, multiplication, power\n",
    "        - Less common function: remainder/modulo, divide and floor\n",
    "    - **Strings (str)**:\n",
    "        - Joining two strings (concatentation), length (len), duplication\n",
    "- Know how to assign something to a variable, and perform basic operations on it\n",
    "    "
   ]
  },
  {
   "cell_type": "code",
   "execution_count": null,
   "metadata": {
    "code_folding": [],
    "collapsed": true
   },
   "outputs": [],
   "source": [
    "# Type in something\n"
   ]
  },
  {
   "cell_type": "markdown",
   "metadata": {
    "collapsed": true
   },
   "source": [
    "You may have noticed while playing around that 'running' a code cell usually gives you some errors. This is because the cell didn't contain any *commands* that the computer could recognise.\n",
    "\n",
    "A computer is very much like a dog - it can only understand and obey the commands that it's been taught to recognise\n",
    "\n",
    "![a dog](http://janfennellthedoglistener.com/static/cms/ConfusedDog.png \"When you try to give you computer human words\")\n",
    "\n",
    "\n",
    "Python, the programming language, is essentially just a system of commands that lets you command the computer to do the tricks that you want it to do. Imagine that your computer is like a very well trained dog that you've adopted from the shelter, and now you need to learn what commands your computer-dog responds to. \n"
   ]
  },
  {
   "cell_type": "markdown",
   "metadata": {},
   "source": [
    "An example of a command that your computer understands is some very simple math. Let try to do some basic arithmetic"
   ]
  },
  {
   "cell_type": "code",
   "execution_count": null,
   "metadata": {},
   "outputs": [],
   "source": [
    "# You can add and subtract numbers\n"
   ]
  },
  {
   "cell_type": "code",
   "execution_count": null,
   "metadata": {},
   "outputs": [],
   "source": [
    "# Work with negative numbers\n"
   ]
  },
  {
   "cell_type": "code",
   "execution_count": null,
   "metadata": {},
   "outputs": [],
   "source": [
    "# As well as multiply and divide\n"
   ]
  },
  {
   "cell_type": "code",
   "execution_count": null,
   "metadata": {},
   "outputs": [],
   "source": [
    "# You can square numbers using the \"power\" command, **\n"
   ]
  },
  {
   "cell_type": "code",
   "execution_count": null,
   "metadata": {},
   "outputs": [],
   "source": [
    "# And even use a few different commands, like:\n",
    "#Divide and floor, //\n"
   ]
  },
  {
   "cell_type": "code",
   "execution_count": null,
   "metadata": {},
   "outputs": [],
   "source": [
    "# and Modulo (a.k.a the remainder), %\n",
    "# Think of this one as a \"divide\" function that returns you the amount left over after division\n"
   ]
  },
  {
   "cell_type": "markdown",
   "metadata": {},
   "source": [
    "Python uses the general BODMAS/PEMDAS rules when trying to decide which order to evaluate your statements in.\n",
    "\n",
    "What do you think would happen here?"
   ]
  },
  {
   "cell_type": "code",
   "execution_count": null,
   "metadata": {},
   "outputs": [],
   "source": [
    "5 + 4 / 2 * 5\n"
   ]
  },
  {
   "cell_type": "markdown",
   "metadata": {},
   "source": [
    "This was your first introduction to the **_numeric_** data types of Python. Namely, integers (int) and floats (floating point numbers, or decimals). You can do almost the same things with floats as you can with integers, except with greater precision. However, sometimes you *need* to know which data type you're working with. You can do this with a **function**, called `type()`.\n",
    "\n",
    "We will learn more about functions later, but for now all you need to know is that a function allows you to perform specific, and often complicated, actions on your code or data. \n",
    "\n",
    "In this instance, `type()` will output the data type that you're working with."
   ]
  },
  {
   "cell_type": "code",
   "execution_count": null,
   "metadata": {},
   "outputs": [],
   "source": [
    "type(3)"
   ]
  },
  {
   "cell_type": "code",
   "execution_count": null,
   "metadata": {},
   "outputs": [],
   "source": [
    "type(2.0)"
   ]
  },
  {
   "cell_type": "markdown",
   "metadata": {
    "collapsed": true
   },
   "source": [
    "#### Challenge 1\n",
    "\n",
    "    first = 1.0\n",
    "    second = \"1\"\n",
    "    third = \"1.1\"\n",
    "\n",
    "Which of the following will print 2.0? Note: there may be more than one right answer.\n",
    "\n",
    "1. first + float(second)\n",
    "2. float(second) + float(third)\n",
    "3. first + int(third)\n",
    "4. first + int(float(third))\n",
    "5. int(first) + int(float(third))\n",
    "6. 2.0 * second"
   ]
  },
  {
   "cell_type": "code",
   "execution_count": null,
   "metadata": {
    "collapsed": true
   },
   "outputs": [],
   "source": []
  },
  {
   "cell_type": "code",
   "execution_count": null,
   "metadata": {
    "collapsed": true
   },
   "outputs": [],
   "source": []
  },
  {
   "cell_type": "markdown",
   "metadata": {},
   "source": [
    "### Strings\n",
    "Another useful data type are *strings*. These are essentially text. You can tell Python that something is a string type by wrapping it in quotes marks"
   ]
  },
  {
   "cell_type": "code",
   "execution_count": null,
   "metadata": {},
   "outputs": [],
   "source": [
    "\"This is a string\""
   ]
  },
  {
   "cell_type": "code",
   "execution_count": null,
   "metadata": {},
   "outputs": [],
   "source": [
    "'As is this'"
   ]
  },
  {
   "cell_type": "code",
   "execution_count": null,
   "metadata": {},
   "outputs": [],
   "source": [
    "# You can use either single or double quotes for strings - just be consistent!\n",
    "'This is quite handy if I wanted to \"quote\" someone, eh?'"
   ]
  },
  {
   "cell_type": "code",
   "execution_count": null,
   "metadata": {},
   "outputs": [],
   "source": [
    "type('This is too')"
   ]
  },
  {
   "cell_type": "code",
   "execution_count": null,
   "metadata": {},
   "outputs": [],
   "source": [
    "# What type of data is this?\n",
    "type('3.56')"
   ]
  },
  {
   "cell_type": "markdown",
   "metadata": {},
   "source": [
    "Since it's not a numeric type, we can't do the same things to a string that we can to an int or float. But there are a few other things we can do instead!\n",
    "\n",
    "An example of this is concatentation, or adding two strings together. Try adding your first name and last name"
   ]
  },
  {
   "cell_type": "code",
   "execution_count": null,
   "metadata": {},
   "outputs": [],
   "source": [
    "#Example: \"FirstName\" + \"Last Name\"\n",
    "#Try it yourself! What do you notice when you add two strings?\n",
    "\"My\"+ \"name\""
   ]
  },
  {
   "cell_type": "markdown",
   "metadata": {},
   "source": [
    "Oh no! That happened because Python doesn't automatically add in a space between two strings, which means that we have to do it ourselves. Let's try again."
   ]
  },
  {
   "cell_type": "code",
   "execution_count": null,
   "metadata": {},
   "outputs": [],
   "source": [
    "# We have two options, \"FirstName \" + \"LastName\"\n"
   ]
  },
  {
   "cell_type": "code",
   "execution_count": null,
   "metadata": {},
   "outputs": [],
   "source": [
    "# Or \"FirstName\" + \" \" + \"LastName\"\n"
   ]
  },
  {
   "cell_type": "markdown",
   "metadata": {},
   "source": [
    "We can also multiply our strings by a number to duplicate it"
   ]
  },
  {
   "cell_type": "code",
   "execution_count": null,
   "metadata": {},
   "outputs": [],
   "source": [
    "\"Mine \" * 5"
   ]
  },
  {
   "cell_type": "markdown",
   "metadata": {},
   "source": [
    "^\n",
    "\n",
    "\\* this reminds me a little of finding nemo\\*\n",
    "![seagulls shuouting mine](https://vignette3.wikia.nocookie.net/disney/images/9/99/Nemo-Seagulls_.jpg/revision/latest?cb=20110913023141)"
   ]
  },
  {
   "cell_type": "markdown",
   "metadata": {},
   "source": [
    "There are also some great functions that you can apply to strings. An example of this is `len()`, which tells you how long your string is"
   ]
  },
  {
   "cell_type": "code",
   "execution_count": null,
   "metadata": {},
   "outputs": [],
   "source": [
    "len(\"Give me a string\")"
   ]
  },
  {
   "cell_type": "code",
   "execution_count": null,
   "metadata": {},
   "outputs": [],
   "source": [
    "len(\"Type\")"
   ]
  },
  {
   "cell_type": "markdown",
   "metadata": {},
   "source": [
    "A couple of other string functions that are good to know are `upper()`, `lower()`, and `capitalize()`.\n",
    "\n",
    "Unlike `type()` and `len()`, you actually use these in a slightly different way. This is because, while `upper()`, `lower()`, and `capitalize()` are functions, they can **ONLY** be used on strings. With these types of functions, we call them *methods* instead, and *methods* can be used with the `str.functionName()` format"
   ]
  },
  {
   "cell_type": "code",
   "execution_count": null,
   "metadata": {},
   "outputs": [],
   "source": [
    "#Upper capitalises everything\n",
    "\"This\".upper()"
   ]
  },
  {
   "cell_type": "code",
   "execution_count": null,
   "metadata": {},
   "outputs": [],
   "source": [
    "#While lower makes everything lower case\n",
    "\"examPlE of A StRinG\".lower()"
   ]
  },
  {
   "cell_type": "code",
   "execution_count": null,
   "metadata": {},
   "outputs": [],
   "source": [
    "#.capitalize() will capitalise the first letter\n",
    "\"examPlE of A StRinG\".capitalize()"
   ]
  },
  {
   "cell_type": "markdown",
   "metadata": {},
   "source": [
    "_**Question**: what happens if you try to use these on an int?_"
   ]
  },
  {
   "cell_type": "code",
   "execution_count": null,
   "metadata": {},
   "outputs": [],
   "source": [
    "3.lower()"
   ]
  },
  {
   "cell_type": "code",
   "execution_count": null,
   "metadata": {
    "collapsed": true
   },
   "outputs": [],
   "source": []
  },
  {
   "cell_type": "markdown",
   "metadata": {},
   "source": [
    "### Data Type Coercion\n",
    "\n",
    "You can also convert different data types into another using *type coercion*.\n",
    "\n",
    "For example, say that I've done some calculations to figure out how many people can fit into an elevator, and got a decimal number, like 3.14159265359. It doesn't make much sense to have 0.14159265359 of person, does it? So I would just want to convert this into an integer."
   ]
  },
  {
   "cell_type": "code",
   "execution_count": null,
   "metadata": {},
   "outputs": [],
   "source": [
    "# But be warned! This ALWAYS rounds down\n",
    "int(3.14159265359),int(3.6)"
   ]
  },
  {
   "cell_type": "code",
   "execution_count": null,
   "metadata": {},
   "outputs": [],
   "source": [
    "float(3)"
   ]
  },
  {
   "cell_type": "markdown",
   "metadata": {},
   "source": [
    "Type conversion will only work where it makes sense to do so. Try to turn a string into a number"
   ]
  },
  {
   "cell_type": "code",
   "execution_count": null,
   "metadata": {},
   "outputs": [],
   "source": [
    "int(\"35\")"
   ]
  },
  {
   "cell_type": "code",
   "execution_count": null,
   "metadata": {
    "scrolled": false
   },
   "outputs": [],
   "source": [
    "#This won't work\n",
    "int(\"int\")"
   ]
  },
  {
   "cell_type": "code",
   "execution_count": null,
   "metadata": {},
   "outputs": [],
   "source": [
    "# But this one is perfectly fine\n",
    "str(1000000)"
   ]
  },
  {
   "cell_type": "markdown",
   "metadata": {},
   "source": [
    "Similarly, certain functions won't work on certain data types. Try to take the `len()` of a number, for example"
   ]
  },
  {
   "cell_type": "code",
   "execution_count": null,
   "metadata": {
    "scrolled": false
   },
   "outputs": [],
   "source": [
    "len(3000000)"
   ]
  },
  {
   "cell_type": "markdown",
   "metadata": {},
   "source": [
    "Dang! But I'd forgotten how many 0's were in a million! What if you turn that number into a string first?"
   ]
  },
  {
   "cell_type": "code",
   "execution_count": null,
   "metadata": {},
   "outputs": [],
   "source": [
    "len(str(3000000))"
   ]
  },
  {
   "cell_type": "markdown",
   "metadata": {},
   "source": [
    "_**Question:** What type of value is 3.25 + 4?_"
   ]
  },
  {
   "cell_type": "code",
   "execution_count": null,
   "metadata": {
    "collapsed": true
   },
   "outputs": [],
   "source": []
  },
  {
   "cell_type": "markdown",
   "metadata": {},
   "source": [
    "#### Challenge 2\n",
    "\n",
    "What will these do? What will be the final data type in each case?_\n",
    "\n",
    "1. `str(4.0)`\n",
    "2. `int(str(4.0))`\n",
    "3. `float(str(3.5))`\n",
    "4. `int(float(str(3.2)))`"
   ]
  },
  {
   "cell_type": "code",
   "execution_count": null,
   "metadata": {
    "collapsed": true
   },
   "outputs": [],
   "source": []
  },
  {
   "cell_type": "code",
   "execution_count": null,
   "metadata": {
    "collapsed": true
   },
   "outputs": [],
   "source": []
  },
  {
   "cell_type": "code",
   "execution_count": null,
   "metadata": {
    "collapsed": true
   },
   "outputs": [],
   "source": []
  },
  {
   "cell_type": "markdown",
   "metadata": {},
   "source": [
    "#### Challenge 3\n",
    "What type of value (integer, floating point number, or character string) would you use to represent each of the following? Try to come up with more than one good answer for each problem. For example, in # 1, when would counting days with a floating point variable make more sense than using an integer?\n",
    "\n",
    "1. Number of days since the start of the year.\n",
    "2. Time elapsed since the start of the year.\n",
    "3. Serial number of a piece of lab equipment.\n",
    "4. A lab specimen’s age.\n",
    "5. Current population of a city.\n",
    "6. Average population of a city over time."
   ]
  },
  {
   "cell_type": "code",
   "execution_count": null,
   "metadata": {
    "collapsed": true
   },
   "outputs": [],
   "source": []
  },
  {
   "cell_type": "code",
   "execution_count": null,
   "metadata": {
    "collapsed": true
   },
   "outputs": [],
   "source": []
  },
  {
   "cell_type": "markdown",
   "metadata": {},
   "source": [
    "### Variables\n",
    "\n",
    "Some of these things are getting a bit lengthy. Could you imagine needing to type out the *same* numbers, and the *same* string every time you want to use it? What about if you wanted to do some math on the number? How are you going to save that number for later?\n",
    "\n",
    "Simple! What we can do is assign these values to a variable. \n",
    "\n",
    "We can do this using the '=' sign. What this does is use Python to tell the computer to carve out a piece of memory somewhere, give it the name you told it to, and assign it a user-specified (i.e. by you) value. "
   ]
  },
  {
   "cell_type": "code",
   "execution_count": null,
   "metadata": {},
   "outputs": [],
   "source": [
    "# Makes \"name\", and gives it the value 'mine'\n",
    "name = 'mine'\n",
    "\n",
    "# tells the computer to find that piece of memory called \"name\", and then give it back to you\n",
    "print(name)"
   ]
  },
  {
   "cell_type": "markdown",
   "metadata": {},
   "source": [
    "This was your first introduction to the \"print\" function. Print statements take the data that you put into them, and then output it (as a string) to the consolecan be extremely useful for "
   ]
  },
  {
   "cell_type": "code",
   "execution_count": null,
   "metadata": {},
   "outputs": [],
   "source": [
    "# takes the value of name, adds something else to it, and then updates the old 'name' with the new value\n",
    "name = \"mine\"\n",
    "name = name + \" \" + \"chips\"\n",
    "print(name)"
   ]
  },
  {
   "cell_type": "code",
   "execution_count": null,
   "metadata": {},
   "outputs": [],
   "source": [
    "# You can use commas in print to add different elements together without adding your own spaces\n",
    "# PLUS it auto-coerces data types to strings, AND removes those awkward 'quote' marks from output\n",
    "print(\"Kahli\",\"Flekac\",\"Is\",\"An\", \"Awesome\", \"Teacher\", \"x\", 100)"
   ]
  },
  {
   "cell_type": "markdown",
   "metadata": {},
   "source": [
    "But be careful! If you're writing a large number, you might be tempted to use commas. While this is \"illegal\" in Python, if you were to put it in a print statement then this happens:"
   ]
  },
  {
   "cell_type": "code",
   "execution_count": null,
   "metadata": {
    "scrolled": true
   },
   "outputs": [],
   "source": [
    "print(1,000,000)"
   ]
  },
  {
   "cell_type": "markdown",
   "metadata": {},
   "source": [
    "This is an example of a semantic, or silent, error. Python has still _worked_ - it ran your code, and gave you a valid result...but it hasn't done what you intended it to do."
   ]
  },
  {
   "cell_type": "markdown",
   "metadata": {},
   "source": [
    "A new feature of Python 3 means that you _can_ use underscores when writing numbers. How exciting!"
   ]
  },
  {
   "cell_type": "code",
   "execution_count": null,
   "metadata": {},
   "outputs": [],
   "source": [
    "print(1_000_000)"
   ]
  },
  {
   "cell_type": "markdown",
   "metadata": {},
   "source": [
    "I can over-write this variable"
   ]
  },
  {
   "cell_type": "code",
   "execution_count": null,
   "metadata": {},
   "outputs": [],
   "source": [
    "name = 'Q: Mine?'\n",
    "\n",
    "print (\"Before,\",name)\n",
    "\n",
    "name = \"A: Nope!\"\n",
    "\n",
    "print(\"After,\",name)"
   ]
  },
  {
   "cell_type": "markdown",
   "metadata": {},
   "source": [
    "And even perform operations and functions on it"
   ]
  },
  {
   "cell_type": "code",
   "execution_count": null,
   "metadata": {},
   "outputs": [],
   "source": [
    "number = 3\n",
    "\n",
    "# What will be the answer here?\n",
    "number**2 + 5"
   ]
  },
  {
   "cell_type": "code",
   "execution_count": null,
   "metadata": {},
   "outputs": [],
   "source": [
    "str((number**2 + 5)/2)"
   ]
  },
  {
   "cell_type": "markdown",
   "metadata": {},
   "source": [
    "I can also assign the results of an operation into a new variable too."
   ]
  },
  {
   "cell_type": "code",
   "execution_count": null,
   "metadata": {
    "scrolled": true
   },
   "outputs": [],
   "source": [
    "number = 10\n",
    "times = 3\n",
    "\n",
    "example_operation = number * times\n",
    "\n",
    "#What will this print out?\n",
    "print(example_operation)"
   ]
  },
  {
   "cell_type": "code",
   "execution_count": null,
   "metadata": {
    "collapsed": true
   },
   "outputs": [],
   "source": []
  },
  {
   "cell_type": "markdown",
   "metadata": {},
   "source": [
    "And use it in a print statement just as I would any other data type"
   ]
  },
  {
   "cell_type": "code",
   "execution_count": null,
   "metadata": {
    "collapsed": true
   },
   "outputs": [],
   "source": [
    "temp_number = 4"
   ]
  },
  {
   "cell_type": "code",
   "execution_count": null,
   "metadata": {
    "collapsed": true
   },
   "outputs": [],
   "source": [
    "print(\"Temporary = \" + str(temp_number))"
   ]
  },
  {
   "cell_type": "code",
   "execution_count": null,
   "metadata": {
    "collapsed": true
   },
   "outputs": [],
   "source": []
  },
  {
   "cell_type": "markdown",
   "metadata": {},
   "source": [
    "_**Question**_\n",
    "\n",
    "What is wrong with the following code?"
   ]
  },
  {
   "cell_type": "code",
   "execution_count": null,
   "metadata": {
    "scrolled": true
   },
   "outputs": [],
   "source": [
    "primt \"Hello world!'"
   ]
  },
  {
   "cell_type": "code",
   "execution_count": null,
   "metadata": {},
   "outputs": [],
   "source": []
  },
  {
   "attachments": {
    "image.png": {
     "image/png": "[encoded data removed]"
    }
   },
   "cell_type": "markdown",
   "metadata": {},
   "source": [
    "#### Optional Challenge \n",
    "\n",
    "You are given two positive integers, `a` and `b`, which each correspond to the sides of a right-angle triangle. \n",
    "\n",
    "Print the integer value corresponding to the square of the hypotenuse of that right triangle.\n",
    "\n",
    "\n",
    "i.e. given sides `a` and `b`, print `c^2`\n",
    "![image.png](attachment:image.png)\n",
    "\n",
    "Hint: if `a = 3` and `b = 5`, then the answer = 34"
   ]
  },
  {
   "cell_type": "code",
   "execution_count": null,
   "metadata": {},
   "outputs": [],
   "source": [
    "# This will randomly generate a value for a and b between 1 to 100\n",
    "from numpy import random\n",
    "\n",
    "a = random.randint(1,100)\n",
    "b = random.randint(1,100)\n",
    "\n",
    "# what do you need to do from here?\n",
    "\n",
    "\n"
   ]
  },
  {
   "cell_type": "markdown",
   "metadata": {},
   "source": [
    "### The dark art of variable Names:\n",
    "\n",
    "Python has basically only three rules about naming variables:\n",
    "- names you define must start with a letter (a-z,A-Z) or underscore (_) and can be followed by any number of letters, >digits (0-9), or underscores\n",
    "- names you define cannot be the same as any of Python's reserved words (see below table)\n",
    "- names are case-sensitive: 'YOU', 'you', 'You', and 'yOu' are all different names in Python\n",
    "- Note that '-', '+', '*', and '/' are used by Python for defining operations on data and cannot be used in names\n",
    "\n",
    "\n",
    "Also, try to make your variable names mean something. It can be very confusing for someone else reading your code (or even yourself, after a long break) if you write something filled with a number of different `temp` or `foo1`, `foo2`, etc variables.\n",
    "\n",
    "\n",
    "| |Reserved | Words | |\n",
    "| --- | --- | --- | --- | \n",
    "|False|True|None|and|\n",
    "|as|assert|break|class|\n",
    "|continue|class|del|def|\n",
    "|if|else|elif|import|\n",
    "|for|from|return|global|\n",
    "|try|except|finally|raise|\n",
    "|while|not|in|is|\n",
    "|or|with|yield|lambda|\n",
    "|pass|nonlocal| | |"
   ]
  },
  {
   "cell_type": "markdown",
   "metadata": {},
   "source": [
    "#### Challenge 4\n",
    "\n",
    "In this list of variable names, which ones are legal? Which ones are legal, but generally frowned upon? How could we make these better?\n",
    "\n",
    "1. 76trombones = \"big parade\"\n",
    "2. more$ = 1000000\n",
    "3. class = \"Computer Science 101\"\n",
    "4. Price_of_tea_in_china\n",
    "5. my name = \"Scooby Doo\"\n",
    "6. A_good_grade_is_A+\n",
    "\n"
   ]
  },
  {
   "cell_type": "code",
   "execution_count": null,
   "metadata": {
    "scrolled": false
   },
   "outputs": [],
   "source": []
  },
  {
   "cell_type": "markdown",
   "metadata": {},
   "source": [
    "\n",
    "\n",
    "#### Challenge 5\n",
    "Assign your team name, how many members you have, and your average (mean) age to three separate variables. Print these out on the same line in this format:\n",
    "\n",
    "\"Our team name is TeamName. We have X members and we are, on average, Y years old\""
   ]
  },
  {
   "cell_type": "code",
   "execution_count": null,
   "metadata": {},
   "outputs": [],
   "source": []
  },
  {
   "cell_type": "code",
   "execution_count": null,
   "metadata": {
    "scrolled": true
   },
   "outputs": [],
   "source": []
  },
  {
   "cell_type": "code",
   "execution_count": null,
   "metadata": {
    "collapsed": true
   },
   "outputs": [],
   "source": []
  },
  {
   "cell_type": "code",
   "execution_count": null,
   "metadata": {
    "collapsed": true
   },
   "outputs": [],
   "source": []
  },
  {
   "cell_type": "code",
   "execution_count": null,
   "metadata": {
    "collapsed": true
   },
   "outputs": [],
   "source": []
  }
 ],
 "metadata": {
  "kernelspec": {
   "display_name": "Python 3",
   "language": "python",
   "name": "python3"
  },
  "language_info": {
   "codemirror_mode": {
    "name": "ipython",
    "version": 3
   },
   "file_extension": ".py",
   "mimetype": "text/x-python",
   "name": "python",
   "nbconvert_exporter": "python",
   "pygments_lexer": "ipython3",
   "version": "3.6.1"
  },
  "toc": {
   "colors": {
    "hover_highlight": "#DAA520",
    "navigate_num": "#000000",
    "navigate_text": "#333333",
    "running_highlight": "#FF0000",
    "selected_highlight": "#FFD700",
    "sidebar_border": "#EEEEEE",
    "wrapper_background": "#FFFFFF"
   },
   "moveMenuLeft": true,
   "nav_menu": {
    "height": "246px",
    "width": "252px"
   },
   "navigate_menu": true,
   "number_sections": false,
   "sideBar": false,
   "threshold": 4,
   "toc_cell": true,
   "toc_position": {
    "height": "217px",
    "left": "1127.25px",
    "right": "20px",
    "top": "71px",
    "width": "220px"
   },
   "toc_section_display": "none",
   "toc_window_display": true,
   "widenNotebook": false
  }
 },
 "nbformat": 4,
 "nbformat_minor": 2
}
